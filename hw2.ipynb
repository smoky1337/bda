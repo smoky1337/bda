{
 "cells": [
  {
   "cell_type": "markdown",
   "id": "007267c5",
   "metadata": {},
   "source": [
    "freichwald,\n",
    "lscheu,\n",
    "merdogogan,"
   ]
  },
  {
   "cell_type": "markdown",
   "id": "9230fff5",
   "metadata": {},
   "source": [
    "# 1)\n",
    "`snakemake -v`  \n",
    "-> `7.6.1`"
   ]
  },
  {
   "cell_type": "markdown",
   "id": "d8b20c63",
   "metadata": {},
   "source": [
    "# 2)\n",
    "## a)\n",
    "`snakemake -n`\n",
    "-> \n",
    "`Building DAG of jobs...\n",
    "Nothing to be done (all requested files are present and up to date).`\n",
    "\n",
    "## c)\n"
   ]
  },
  {
   "cell_type": "code",
   "execution_count": 32,
   "id": "48bcc0bd",
   "metadata": {},
   "outputs": [
    {
     "name": "stdout",
     "output_type": "stream",
     "text": [
      "[1 1]\n"
     ]
    },
    {
     "ename": "ValueError",
     "evalue": "not enough values to unpack (expected 3, got 2)",
     "output_type": "error",
     "traceback": [
      "\u001b[0;31m---------------------------------------------------------------------------\u001b[0m",
      "\u001b[0;31mValueError\u001b[0m                                Traceback (most recent call last)",
      "Input \u001b[0;32mIn [32]\u001b[0m, in \u001b[0;36m<cell line: 6>\u001b[0;34m()\u001b[0m\n\u001b[1;32m      4\u001b[0m s \u001b[38;5;241m=\u001b[39m data\u001b[38;5;241m.\u001b[39mgroupby(\u001b[38;5;124m\"\u001b[39m\u001b[38;5;124mid\u001b[39m\u001b[38;5;124m\"\u001b[39m)\u001b[38;5;241m.\u001b[39magg(\u001b[38;5;124m\"\u001b[39m\u001b[38;5;124mcount\u001b[39m\u001b[38;5;124m\"\u001b[39m)\n\u001b[1;32m      5\u001b[0m \u001b[38;5;28mprint\u001b[39m(s\u001b[38;5;241m.\u001b[39mvalues[:,\u001b[38;5;241m0\u001b[39m])\n\u001b[0;32m----> 6\u001b[0m [\u001b[38;5;28mprint\u001b[39m(i,c,g) \u001b[38;5;28;01mfor\u001b[39;00m i,c,g \u001b[38;5;129;01min\u001b[39;00m \u001b[38;5;28mzip\u001b[39m(s\u001b[38;5;241m.\u001b[39mindex, s)]\n",
      "Input \u001b[0;32mIn [32]\u001b[0m, in \u001b[0;36m<listcomp>\u001b[0;34m(.0)\u001b[0m\n\u001b[1;32m      4\u001b[0m s \u001b[38;5;241m=\u001b[39m data\u001b[38;5;241m.\u001b[39mgroupby(\u001b[38;5;124m\"\u001b[39m\u001b[38;5;124mid\u001b[39m\u001b[38;5;124m\"\u001b[39m)\u001b[38;5;241m.\u001b[39magg(\u001b[38;5;124m\"\u001b[39m\u001b[38;5;124mcount\u001b[39m\u001b[38;5;124m\"\u001b[39m)\n\u001b[1;32m      5\u001b[0m \u001b[38;5;28mprint\u001b[39m(s\u001b[38;5;241m.\u001b[39mvalues[:,\u001b[38;5;241m0\u001b[39m])\n\u001b[0;32m----> 6\u001b[0m [\u001b[38;5;28mprint\u001b[39m(i,c,g) \u001b[38;5;28;01mfor\u001b[39;00m i,c,g \u001b[38;5;129;01min\u001b[39;00m \u001b[38;5;28mzip\u001b[39m(s\u001b[38;5;241m.\u001b[39mindex, s)]\n",
      "\u001b[0;31mValueError\u001b[0m: not enough values to unpack (expected 3, got 2)"
     ]
    }
   ],
   "source": [
    "s = [[\"123\", \"a\", \"1.3\"], [\"321\", \"b\", \"2.3\"]]\n",
    "import pandas as pd\n",
    "data = pd.DataFrame(s, columns = [\"id\", \"courses\", \"grade\"])\n",
    "s = data.groupby(\"id\").agg(\"count\")\n",
    "print(s.values[:,0])\n",
    "[print(i,c,g) for i,c,g in zip(s.index, s)]"
   ]
  },
  {
   "cell_type": "markdown",
   "id": "8fb40677",
   "metadata": {},
   "source": [
    "## d)\n",
    "`rule count:\n",
    "        input:\n",
    "                \"coursesTaken/coursesTaken-{wild}.csv\"\n",
    "        output:\n",
    "                \"coursesTaken/coursesTaken-{wild}.count\"\n",
    "        shell:\n",
    "                \"python3 coursesTaken/count.py {input} {output}\"\n",
    "                `"
   ]
  },
  {
   "cell_type": "markdown",
   "id": "ac3e626d",
   "metadata": {},
   "source": [
    "## e)\n",
    "`cat coursesTaken/coursesTaken-A.count`  `1000000`  \n",
    "`cat coursesTaken/coursesTaken-B.count`  `1000000`  \n",
    "\n",
    "`--cores` specified the number of physical cores to use for scheduling jobs. If using more than active tasks, parralellization may be achieved depending on the task. "
   ]
  },
  {
   "cell_type": "markdown",
   "id": "497bc032",
   "metadata": {},
   "source": [
    "# 3\n",
    "## a)  \n",
    "We can't use a rule as we do not know how many files are created beforehand. There may be a difference in numbers of files created by courseTaken-A or B."
   ]
  },
  {
   "cell_type": "markdown",
   "id": "a49b91e3",
   "metadata": {},
   "source": [
    "## d)\n",
    "1) Information propogates backwords through snakemake, that means it builds a graph from the final output to the function creating that to the function creating the input to that function and so forth.   \n",
    "  \n",
    "2) Map tasks: Split, sum_count, reducers: agg_grades.py\n"
   ]
  },
  {
   "cell_type": "code",
   "execution_count": null,
   "id": "73e124dd",
   "metadata": {},
   "outputs": [],
   "source": []
  }
 ],
 "metadata": {
  "kernelspec": {
   "display_name": "Python 3 (ipykernel)",
   "language": "python",
   "name": "python3"
  },
  "language_info": {
   "codemirror_mode": {
    "name": "ipython",
    "version": 3
   },
   "file_extension": ".py",
   "mimetype": "text/x-python",
   "name": "python",
   "nbconvert_exporter": "python",
   "pygments_lexer": "ipython3",
   "version": "3.10.4"
  }
 },
 "nbformat": 4,
 "nbformat_minor": 5
}
