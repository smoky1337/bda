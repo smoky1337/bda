{
 "cells": [
  {
   "cell_type": "code",
   "execution_count": 7,
   "metadata": {},
   "outputs": [
    {
     "name": "stdout",
     "output_type": "stream",
     "text": [
      " possible ratings  [1, 2, 3, 4, 5]\n",
      " distribution  [0.30769231 0.15384615 0.07692308 0.15384615 0.30769231] 1.0\n"
     ]
    }
   ],
   "source": [
    "\n",
    "#2-a)\n",
    "\n",
    "from random import *\n",
    "import numpy as np\n",
    "import pandas as pd\n",
    "num_users = 10\n",
    "num_items = 30\n",
    "minmax_ratings = [ int ( num_items *0.15) , int ( num_items\n",
    "*0.75) ]\n",
    "rating_range = [1 , 5]\n",
    "\n",
    "users = [ f\" user -{ i} \" for i in range (1 , num_users +1) ]\n",
    "songs = [ f\" song -{ j} \" for j in range (1 , num_items +1) ]\n",
    "utility = pd . DataFrame ( np . nan ,\n",
    "index = users ,\n",
    "columns = songs )\n",
    "possible_ratings = [ r for r in range ( rating_range [0] ,rating_range [1] + 1) ]\n",
    "num_possible_ratings = len ( possible_ratings )\n",
    "# human ratings are often skewed to the extreme choices (e.g. 1 star /5 star reviews )\n",
    "# let ' s reflect this by generating rankings that have a similar artificial bias\n",
    "rating_distribution = [ np . max ([0.1 , np . abs ((( i +0.5) -(\n",
    "num_possible_ratings /2) )/ num_possible_ratings ) ])\n",
    "for i in range ( num_possible_ratings )]\n",
    "rating_distribution = rating_distribution / np . max (\n",
    "rating_distribution )\n",
    "rating_distribution = rating_distribution / np . sum (\n",
    "rating_distribution )\n",
    "print (\" possible ratings \" , possible_ratings )\n",
    "print (\" distribution \" , rating_distribution , np . sum (\n",
    "rating_distribution ) )\n",
    "def generate_rating () :\n",
    "    # unbiased version\n",
    "    # return np. random . randint ( rating_range [0] , rating_range [1]+1)\n",
    "    return np . random . choice ( possible_ratings , 1 , p=\n",
    "    rating_distribution )\n",
    "    # generate random ratings\n",
    "    for user in users :\n",
    "        num_ratings = np . random . randint ( minmax_ratings [0] ,\n",
    "        minmax_ratings [1]+1)\n",
    "        rated_songs = random . sample ( songs , num_ratings )\n",
    "        ratings = [ generate_rating () for _ in range ( len (\n",
    "        rated_songs ))]\n",
    "\n",
    "        # print ( user_id , rating , rated_songs , ratings )\n",
    "    for song , rating in zip ( rated_songs , ratings ):\n",
    "        utility . at [ user , song ] = rating \n",
    "        # the following can be used to check the rating distribution :\n",
    "        allratings = np . array ( utility . to_numpy () . tolist () )\n",
    "        allratings = allratings [~ np . isnan ( allratings )]\n",
    "    for rating , freq in zip (* np . unique ( allratings ,\n",
    "         return_counts = True ) ):\n",
    "        print (\" rating : %s , freq : %s \" % ( rating , freq ))"
   ]
  },
  {
   "cell_type": "markdown",
   "metadata": {},
   "source": [
    "2-b)\n",
    "\n",
    "Recommender systems are systems that help users discover items they may like so, If we start with the utility matrix M, with n rows and m columns (i.e., there are n users and m items), then we might be able to find a matrix U with n rows and d columns and a matrix V with d rows and m columns, such that UV closely approximates M in those entries where M is non-blank.\n",
    "If so, then we have established that there are d dimensions that allow us to characterize both users and items closely. We can then use the entry in the product UV to estimate the corresponding blank entry in utility matrix M.\n"
   ]
  }
 ],
 "metadata": {
  "interpreter": {
   "hash": "5a0fd3580b53b16b83c6c7d174c0e3e511000340c14cff854606c1cb089b0b57"
  },
  "kernelspec": {
   "display_name": "Python 3.10.4 64-bit",
   "language": "python",
   "name": "python3"
  },
  "language_info": {
   "codemirror_mode": {
    "name": "ipython",
    "version": 3
   },
   "file_extension": ".py",
   "mimetype": "text/x-python",
   "name": "python",
   "nbconvert_exporter": "python",
   "pygments_lexer": "ipython3",
   "version": "3.10.4"
  },
  "orig_nbformat": 4
 },
 "nbformat": 4,
 "nbformat_minor": 2
}
