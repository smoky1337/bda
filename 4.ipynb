{
 "cells": [
  {
   "cell_type": "code",
   "execution_count": null,
   "metadata": {},
   "outputs": [],
   "source": [
    "%pip install pandas\n",
    "%pip install numpy\n",
    "%pip install plotly\n",
    "%pip install networkx\n",
    "%pip install matplotlib"
   ]
  },
  {
   "cell_type": "markdown",
   "metadata": {},
   "source": [
    "First, let’s import the dataset and get familiar with it. We will use the Pandas DataFrame to store and manipulate our dataset:"
   ]
  },
  {
   "cell_type": "markdown",
   "metadata": {},
   "source": []
  },
  {
   "cell_type": "code",
   "execution_count": null,
   "metadata": {},
   "outputs": [],
   "source": [
    "# importing module\n",
    "import pandas as pd\n",
    "\n",
    "# dataset\n",
    "data = pd.read_csv(\"stack_network_links.csv\")\n",
    "\n",
    "# printing the shape of the dataset\n",
    "data.shape"
   ]
  },
  {
   "cell_type": "code",
   "execution_count": null,
   "metadata": {},
   "outputs": [],
   "source": [
    "#printing the heading\n",
    "data.head()"
   ]
  },
  {
   "cell_type": "markdown",
   "metadata": {},
   "source": [
    "Let’s print out the top 10 most frequent items from the dataset."
   ]
  },
  {
   "cell_type": "code",
   "execution_count": null,
   "metadata": {},
   "outputs": [],
   "source": [
    "# importing module\n",
    "import numpy as np\n",
    "\n",
    "# Gather All Items of Each Transactions into Numpy Array\n",
    "transaction = []\n",
    "for i in range(0, data.shape[0]):\n",
    "    for j in range(0, data.shape[1]):\n",
    "        transaction.append(data.values[i,j])\n",
    "\n",
    "# converting to numpy array\n",
    "transaction = np.array(transaction)\n",
    "\n",
    "#  Transform Them a Pandas DataFrame\n",
    "df = pd.DataFrame(transaction, columns=[\"items\"]) \n",
    "\n",
    "# Put 1 to Each Item For Making Countable Table, to be able to perform Group By\n",
    "df[\"incident_count\"] = 1 \n",
    "\n",
    "#  Delete NaN Items from Dataset\n",
    "indexNames = df[df['items'] == \"nan\" ].index\n",
    "df.drop(indexNames , inplace=True)\n",
    "\n",
    "# Making a New Appropriate Pandas DataFrame for Visualizations  \n",
    "df_table = df.groupby(\"items\").sum().sort_values(\"incident_count\", ascending=False).reset_index()\n",
    "\n",
    "#  Initial Visualizations\n",
    "df_table.head(10).style.background_gradient(cmap='Greens')"
   ]
  },
  {
   "cell_type": "markdown",
   "metadata": {},
   "source": [
    "A treemapping is a method for displaying hierarchical data using nested figures, usually rectangles. We can use a treemap to visualize all the items from our dataset more interactive."
   ]
  },
  {
   "cell_type": "code",
   "execution_count": 5,
   "metadata": {},
   "outputs": [
    {
     "data": {
      "application/vnd.plotly.v1+json": {
       "config": {
        "plotlyServerURL": "https://plot.ly"
       },
       "data": [
        {
         "branchvalues": "total",
         "customdata": [
          [
           ".net",
           16
          ],
          [
           "ajax",
           14
          ],
          [
           "angularjs",
           26
          ],
          [
           "asp.net",
           26
          ],
          [
           "asp.net-web-api",
           14
          ],
          [
           "c#",
           28
          ],
          [
           "css",
           28
          ],
          [
           "entity-framework",
           16
          ],
          [
           "hibernate",
           18
          ],
          [
           "html",
           12
          ],
          [
           "html5",
           20
          ],
          [
           "ios",
           12
          ],
          [
           "java",
           16
          ],
          [
           "javascript",
           24
          ],
          [
           "jquery",
           32
          ],
          [
           "linq",
           14
          ],
          [
           "linux",
           20
          ],
          [
           "mongodb",
           16
          ],
          [
           "mysql",
           22
          ],
          [
           "node.js",
           14
          ],
          [
           "php",
           20
          ],
          [
           "python",
           14
          ],
          [
           "reactjs",
           16
          ],
          [
           "sass",
           18
          ],
          [
           "spring",
           18
          ],
          [
           "spring-mvc",
           14
          ],
          [
           "sql-server",
           18
          ],
          [
           "twitter-bootstrap",
           12
          ],
          [
           "wcf",
           16
          ],
          [
           "wpf",
           12
          ],
          [
           "(?)",
           19.75824175824176
          ]
         ],
         "domain": {
          "x": [
           0,
           1
          ],
          "y": [
           0,
           1
          ]
         },
         "hovertemplate": "labels=%{label}<br>incident_count=%{value}<br>parent=%{parent}<br>id=%{id}<br>items=%{customdata[0]}<br>color=%{color}<extra></extra>",
         "ids": [
          "all/.net",
          "all/ajax",
          "all/angularjs",
          "all/asp.net",
          "all/asp.net-web-api",
          "all/c#",
          "all/css",
          "all/entity-framework",
          "all/hibernate",
          "all/html",
          "all/html5",
          "all/ios",
          "all/java",
          "all/javascript",
          "all/jquery",
          "all/linq",
          "all/linux",
          "all/mongodb",
          "all/mysql",
          "all/node.js",
          "all/php",
          "all/python",
          "all/reactjs",
          "all/sass",
          "all/spring",
          "all/spring-mvc",
          "all/sql-server",
          "all/twitter-bootstrap",
          "all/wcf",
          "all/wpf",
          "all"
         ],
         "labels": [
          ".net",
          "ajax",
          "angularjs",
          "asp.net",
          "asp.net-web-api",
          "c#",
          "css",
          "entity-framework",
          "hibernate",
          "html",
          "html5",
          "ios",
          "java",
          "javascript",
          "jquery",
          "linq",
          "linux",
          "mongodb",
          "mysql",
          "node.js",
          "php",
          "python",
          "reactjs",
          "sass",
          "spring",
          "spring-mvc",
          "sql-server",
          "twitter-bootstrap",
          "wcf",
          "wpf",
          "all"
         ],
         "marker": {
          "coloraxis": "coloraxis",
          "colors": [
           16,
           14,
           26,
           26,
           14,
           28,
           28,
           16,
           18,
           12,
           20,
           12,
           16,
           24,
           32,
           14,
           20,
           16,
           22,
           14,
           20,
           14,
           16,
           18,
           18,
           14,
           18,
           12,
           16,
           12,
           19.75824175824176
          ]
         },
         "name": "",
         "parents": [
          "all",
          "all",
          "all",
          "all",
          "all",
          "all",
          "all",
          "all",
          "all",
          "all",
          "all",
          "all",
          "all",
          "all",
          "all",
          "all",
          "all",
          "all",
          "all",
          "all",
          "all",
          "all",
          "all",
          "all",
          "all",
          "all",
          "all",
          "all",
          "all",
          "all",
          ""
         ],
         "type": "treemap",
         "values": [
          16,
          14,
          26,
          26,
          14,
          28,
          28,
          16,
          18,
          12,
          20,
          12,
          16,
          24,
          32,
          14,
          20,
          16,
          22,
          14,
          20,
          14,
          16,
          18,
          18,
          14,
          18,
          12,
          16,
          12,
          546
         ]
        }
       ],
       "layout": {
        "coloraxis": {
         "colorbar": {
          "title": {
           "text": "color"
          }
         },
         "colorscale": [
          [
           0,
           "rgb(247,252,245)"
          ],
          [
           0.125,
           "rgb(229,245,224)"
          ],
          [
           0.25,
           "rgb(199,233,192)"
          ],
          [
           0.375,
           "rgb(161,217,155)"
          ],
          [
           0.5,
           "rgb(116,196,118)"
          ],
          [
           0.625,
           "rgb(65,171,93)"
          ],
          [
           0.75,
           "rgb(35,139,69)"
          ],
          [
           0.875,
           "rgb(0,109,44)"
          ],
          [
           1,
           "rgb(0,68,27)"
          ]
         ]
        },
        "legend": {
         "tracegroupgap": 0
        },
        "margin": {
         "t": 60
        },
        "template": {
         "data": {
          "bar": [
           {
            "error_x": {
             "color": "#2a3f5f"
            },
            "error_y": {
             "color": "#2a3f5f"
            },
            "marker": {
             "line": {
              "color": "#E5ECF6",
              "width": 0.5
             },
             "pattern": {
              "fillmode": "overlay",
              "size": 10,
              "solidity": 0.2
             }
            },
            "type": "bar"
           }
          ],
          "barpolar": [
           {
            "marker": {
             "line": {
              "color": "#E5ECF6",
              "width": 0.5
             },
             "pattern": {
              "fillmode": "overlay",
              "size": 10,
              "solidity": 0.2
             }
            },
            "type": "barpolar"
           }
          ],
          "carpet": [
           {
            "aaxis": {
             "endlinecolor": "#2a3f5f",
             "gridcolor": "white",
             "linecolor": "white",
             "minorgridcolor": "white",
             "startlinecolor": "#2a3f5f"
            },
            "baxis": {
             "endlinecolor": "#2a3f5f",
             "gridcolor": "white",
             "linecolor": "white",
             "minorgridcolor": "white",
             "startlinecolor": "#2a3f5f"
            },
            "type": "carpet"
           }
          ],
          "choropleth": [
           {
            "colorbar": {
             "outlinewidth": 0,
             "ticks": ""
            },
            "type": "choropleth"
           }
          ],
          "contour": [
           {
            "colorbar": {
             "outlinewidth": 0,
             "ticks": ""
            },
            "colorscale": [
             [
              0,
              "#0d0887"
             ],
             [
              0.1111111111111111,
              "#46039f"
             ],
             [
              0.2222222222222222,
              "#7201a8"
             ],
             [
              0.3333333333333333,
              "#9c179e"
             ],
             [
              0.4444444444444444,
              "#bd3786"
             ],
             [
              0.5555555555555556,
              "#d8576b"
             ],
             [
              0.6666666666666666,
              "#ed7953"
             ],
             [
              0.7777777777777778,
              "#fb9f3a"
             ],
             [
              0.8888888888888888,
              "#fdca26"
             ],
             [
              1,
              "#f0f921"
             ]
            ],
            "type": "contour"
           }
          ],
          "contourcarpet": [
           {
            "colorbar": {
             "outlinewidth": 0,
             "ticks": ""
            },
            "type": "contourcarpet"
           }
          ],
          "heatmap": [
           {
            "colorbar": {
             "outlinewidth": 0,
             "ticks": ""
            },
            "colorscale": [
             [
              0,
              "#0d0887"
             ],
             [
              0.1111111111111111,
              "#46039f"
             ],
             [
              0.2222222222222222,
              "#7201a8"
             ],
             [
              0.3333333333333333,
              "#9c179e"
             ],
             [
              0.4444444444444444,
              "#bd3786"
             ],
             [
              0.5555555555555556,
              "#d8576b"
             ],
             [
              0.6666666666666666,
              "#ed7953"
             ],
             [
              0.7777777777777778,
              "#fb9f3a"
             ],
             [
              0.8888888888888888,
              "#fdca26"
             ],
             [
              1,
              "#f0f921"
             ]
            ],
            "type": "heatmap"
           }
          ],
          "heatmapgl": [
           {
            "colorbar": {
             "outlinewidth": 0,
             "ticks": ""
            },
            "colorscale": [
             [
              0,
              "#0d0887"
             ],
             [
              0.1111111111111111,
              "#46039f"
             ],
             [
              0.2222222222222222,
              "#7201a8"
             ],
             [
              0.3333333333333333,
              "#9c179e"
             ],
             [
              0.4444444444444444,
              "#bd3786"
             ],
             [
              0.5555555555555556,
              "#d8576b"
             ],
             [
              0.6666666666666666,
              "#ed7953"
             ],
             [
              0.7777777777777778,
              "#fb9f3a"
             ],
             [
              0.8888888888888888,
              "#fdca26"
             ],
             [
              1,
              "#f0f921"
             ]
            ],
            "type": "heatmapgl"
           }
          ],
          "histogram": [
           {
            "marker": {
             "pattern": {
              "fillmode": "overlay",
              "size": 10,
              "solidity": 0.2
             }
            },
            "type": "histogram"
           }
          ],
          "histogram2d": [
           {
            "colorbar": {
             "outlinewidth": 0,
             "ticks": ""
            },
            "colorscale": [
             [
              0,
              "#0d0887"
             ],
             [
              0.1111111111111111,
              "#46039f"
             ],
             [
              0.2222222222222222,
              "#7201a8"
             ],
             [
              0.3333333333333333,
              "#9c179e"
             ],
             [
              0.4444444444444444,
              "#bd3786"
             ],
             [
              0.5555555555555556,
              "#d8576b"
             ],
             [
              0.6666666666666666,
              "#ed7953"
             ],
             [
              0.7777777777777778,
              "#fb9f3a"
             ],
             [
              0.8888888888888888,
              "#fdca26"
             ],
             [
              1,
              "#f0f921"
             ]
            ],
            "type": "histogram2d"
           }
          ],
          "histogram2dcontour": [
           {
            "colorbar": {
             "outlinewidth": 0,
             "ticks": ""
            },
            "colorscale": [
             [
              0,
              "#0d0887"
             ],
             [
              0.1111111111111111,
              "#46039f"
             ],
             [
              0.2222222222222222,
              "#7201a8"
             ],
             [
              0.3333333333333333,
              "#9c179e"
             ],
             [
              0.4444444444444444,
              "#bd3786"
             ],
             [
              0.5555555555555556,
              "#d8576b"
             ],
             [
              0.6666666666666666,
              "#ed7953"
             ],
             [
              0.7777777777777778,
              "#fb9f3a"
             ],
             [
              0.8888888888888888,
              "#fdca26"
             ],
             [
              1,
              "#f0f921"
             ]
            ],
            "type": "histogram2dcontour"
           }
          ],
          "mesh3d": [
           {
            "colorbar": {
             "outlinewidth": 0,
             "ticks": ""
            },
            "type": "mesh3d"
           }
          ],
          "parcoords": [
           {
            "line": {
             "colorbar": {
              "outlinewidth": 0,
              "ticks": ""
             }
            },
            "type": "parcoords"
           }
          ],
          "pie": [
           {
            "automargin": true,
            "type": "pie"
           }
          ],
          "scatter": [
           {
            "fillpattern": {
             "fillmode": "overlay",
             "size": 10,
             "solidity": 0.2
            },
            "type": "scatter"
           }
          ],
          "scatter3d": [
           {
            "line": {
             "colorbar": {
              "outlinewidth": 0,
              "ticks": ""
             }
            },
            "marker": {
             "colorbar": {
              "outlinewidth": 0,
              "ticks": ""
             }
            },
            "type": "scatter3d"
           }
          ],
          "scattercarpet": [
           {
            "marker": {
             "colorbar": {
              "outlinewidth": 0,
              "ticks": ""
             }
            },
            "type": "scattercarpet"
           }
          ],
          "scattergeo": [
           {
            "marker": {
             "colorbar": {
              "outlinewidth": 0,
              "ticks": ""
             }
            },
            "type": "scattergeo"
           }
          ],
          "scattergl": [
           {
            "marker": {
             "colorbar": {
              "outlinewidth": 0,
              "ticks": ""
             }
            },
            "type": "scattergl"
           }
          ],
          "scattermapbox": [
           {
            "marker": {
             "colorbar": {
              "outlinewidth": 0,
              "ticks": ""
             }
            },
            "type": "scattermapbox"
           }
          ],
          "scatterpolar": [
           {
            "marker": {
             "colorbar": {
              "outlinewidth": 0,
              "ticks": ""
             }
            },
            "type": "scatterpolar"
           }
          ],
          "scatterpolargl": [
           {
            "marker": {
             "colorbar": {
              "outlinewidth": 0,
              "ticks": ""
             }
            },
            "type": "scatterpolargl"
           }
          ],
          "scatterternary": [
           {
            "marker": {
             "colorbar": {
              "outlinewidth": 0,
              "ticks": ""
             }
            },
            "type": "scatterternary"
           }
          ],
          "surface": [
           {
            "colorbar": {
             "outlinewidth": 0,
             "ticks": ""
            },
            "colorscale": [
             [
              0,
              "#0d0887"
             ],
             [
              0.1111111111111111,
              "#46039f"
             ],
             [
              0.2222222222222222,
              "#7201a8"
             ],
             [
              0.3333333333333333,
              "#9c179e"
             ],
             [
              0.4444444444444444,
              "#bd3786"
             ],
             [
              0.5555555555555556,
              "#d8576b"
             ],
             [
              0.6666666666666666,
              "#ed7953"
             ],
             [
              0.7777777777777778,
              "#fb9f3a"
             ],
             [
              0.8888888888888888,
              "#fdca26"
             ],
             [
              1,
              "#f0f921"
             ]
            ],
            "type": "surface"
           }
          ],
          "table": [
           {
            "cells": {
             "fill": {
              "color": "#EBF0F8"
             },
             "line": {
              "color": "white"
             }
            },
            "header": {
             "fill": {
              "color": "#C8D4E3"
             },
             "line": {
              "color": "white"
             }
            },
            "type": "table"
           }
          ]
         },
         "layout": {
          "annotationdefaults": {
           "arrowcolor": "#2a3f5f",
           "arrowhead": 0,
           "arrowwidth": 1
          },
          "autotypenumbers": "strict",
          "coloraxis": {
           "colorbar": {
            "outlinewidth": 0,
            "ticks": ""
           }
          },
          "colorscale": {
           "diverging": [
            [
             0,
             "#8e0152"
            ],
            [
             0.1,
             "#c51b7d"
            ],
            [
             0.2,
             "#de77ae"
            ],
            [
             0.3,
             "#f1b6da"
            ],
            [
             0.4,
             "#fde0ef"
            ],
            [
             0.5,
             "#f7f7f7"
            ],
            [
             0.6,
             "#e6f5d0"
            ],
            [
             0.7,
             "#b8e186"
            ],
            [
             0.8,
             "#7fbc41"
            ],
            [
             0.9,
             "#4d9221"
            ],
            [
             1,
             "#276419"
            ]
           ],
           "sequential": [
            [
             0,
             "#0d0887"
            ],
            [
             0.1111111111111111,
             "#46039f"
            ],
            [
             0.2222222222222222,
             "#7201a8"
            ],
            [
             0.3333333333333333,
             "#9c179e"
            ],
            [
             0.4444444444444444,
             "#bd3786"
            ],
            [
             0.5555555555555556,
             "#d8576b"
            ],
            [
             0.6666666666666666,
             "#ed7953"
            ],
            [
             0.7777777777777778,
             "#fb9f3a"
            ],
            [
             0.8888888888888888,
             "#fdca26"
            ],
            [
             1,
             "#f0f921"
            ]
           ],
           "sequentialminus": [
            [
             0,
             "#0d0887"
            ],
            [
             0.1111111111111111,
             "#46039f"
            ],
            [
             0.2222222222222222,
             "#7201a8"
            ],
            [
             0.3333333333333333,
             "#9c179e"
            ],
            [
             0.4444444444444444,
             "#bd3786"
            ],
            [
             0.5555555555555556,
             "#d8576b"
            ],
            [
             0.6666666666666666,
             "#ed7953"
            ],
            [
             0.7777777777777778,
             "#fb9f3a"
            ],
            [
             0.8888888888888888,
             "#fdca26"
            ],
            [
             1,
             "#f0f921"
            ]
           ]
          },
          "colorway": [
           "#636efa",
           "#EF553B",
           "#00cc96",
           "#ab63fa",
           "#FFA15A",
           "#19d3f3",
           "#FF6692",
           "#B6E880",
           "#FF97FF",
           "#FECB52"
          ],
          "font": {
           "color": "#2a3f5f"
          },
          "geo": {
           "bgcolor": "white",
           "lakecolor": "white",
           "landcolor": "#E5ECF6",
           "showlakes": true,
           "showland": true,
           "subunitcolor": "white"
          },
          "hoverlabel": {
           "align": "left"
          },
          "hovermode": "closest",
          "mapbox": {
           "style": "light"
          },
          "paper_bgcolor": "white",
          "plot_bgcolor": "#E5ECF6",
          "polar": {
           "angularaxis": {
            "gridcolor": "white",
            "linecolor": "white",
            "ticks": ""
           },
           "bgcolor": "#E5ECF6",
           "radialaxis": {
            "gridcolor": "white",
            "linecolor": "white",
            "ticks": ""
           }
          },
          "scene": {
           "xaxis": {
            "backgroundcolor": "#E5ECF6",
            "gridcolor": "white",
            "gridwidth": 2,
            "linecolor": "white",
            "showbackground": true,
            "ticks": "",
            "zerolinecolor": "white"
           },
           "yaxis": {
            "backgroundcolor": "#E5ECF6",
            "gridcolor": "white",
            "gridwidth": 2,
            "linecolor": "white",
            "showbackground": true,
            "ticks": "",
            "zerolinecolor": "white"
           },
           "zaxis": {
            "backgroundcolor": "#E5ECF6",
            "gridcolor": "white",
            "gridwidth": 2,
            "linecolor": "white",
            "showbackground": true,
            "ticks": "",
            "zerolinecolor": "white"
           }
          },
          "shapedefaults": {
           "line": {
            "color": "#2a3f5f"
           }
          },
          "ternary": {
           "aaxis": {
            "gridcolor": "white",
            "linecolor": "white",
            "ticks": ""
           },
           "baxis": {
            "gridcolor": "white",
            "linecolor": "white",
            "ticks": ""
           },
           "bgcolor": "#E5ECF6",
           "caxis": {
            "gridcolor": "white",
            "linecolor": "white",
            "ticks": ""
           }
          },
          "title": {
           "x": 0.05
          },
          "xaxis": {
           "automargin": true,
           "gridcolor": "white",
           "linecolor": "white",
           "ticks": "",
           "title": {
            "standoff": 15
           },
           "zerolinecolor": "white",
           "zerolinewidth": 2
          },
          "yaxis": {
           "automargin": true,
           "gridcolor": "white",
           "linecolor": "white",
           "ticks": "",
           "title": {
            "standoff": 15
           },
           "zerolinecolor": "white",
           "zerolinewidth": 2
          }
         }
        }
       }
      }
     },
     "metadata": {},
     "output_type": "display_data"
    }
   ],
   "source": [
    "# importing required module\n",
    "import plotly.express as px\n",
    "\n",
    "# to have a same origin\n",
    "df_table[\"all\"] = \"all\" \n",
    "\n",
    "# creating tree map using plotly\n",
    "fig = px.treemap(df_table.head(30), path=['all', \"items\"], values='incident_count',\n",
    "                  color=df_table[\"incident_count\"].head(30), hover_data=['items'],\n",
    "                  color_continuous_scale='Greens',\n",
    "                )\n",
    "# ploting the treemap\n",
    "fig.show()"
   ]
  },
  {
   "cell_type": "markdown",
   "metadata": {},
   "source": [
    "Before getting the most frequent itemsets, we need to transform our dataset into a True – False matrix where rows are transactions and columns are most used"
   ]
  },
  {
   "cell_type": "code",
   "execution_count": 6,
   "metadata": {},
   "outputs": [
    {
     "data": {
      "text/html": [
       "<div>\n",
       "<style scoped>\n",
       "    .dataframe tbody tr th:only-of-type {\n",
       "        vertical-align: middle;\n",
       "    }\n",
       "\n",
       "    .dataframe tbody tr th {\n",
       "        vertical-align: top;\n",
       "    }\n",
       "\n",
       "    .dataframe thead th {\n",
       "        text-align: right;\n",
       "    }\n",
       "</style>\n",
       "<table border=\"1\" class=\"dataframe\">\n",
       "  <thead>\n",
       "    <tr style=\"text-align: right;\">\n",
       "      <th></th>\n",
       "      <th>#</th>\n",
       "      <th>+</th>\n",
       "      <th>-</th>\n",
       "      <th>.</th>\n",
       "      <th>0</th>\n",
       "      <th>1</th>\n",
       "      <th>2</th>\n",
       "      <th>3</th>\n",
       "      <th>4</th>\n",
       "      <th>5</th>\n",
       "      <th>...</th>\n",
       "      <th>q</th>\n",
       "      <th>r</th>\n",
       "      <th>s</th>\n",
       "      <th>t</th>\n",
       "      <th>u</th>\n",
       "      <th>v</th>\n",
       "      <th>w</th>\n",
       "      <th>x</th>\n",
       "      <th>y</th>\n",
       "      <th>z</th>\n",
       "    </tr>\n",
       "  </thead>\n",
       "  <tbody>\n",
       "    <tr>\n",
       "      <th>0</th>\n",
       "      <td>False</td>\n",
       "      <td>False</td>\n",
       "      <td>False</td>\n",
       "      <td>False</td>\n",
       "      <td>False</td>\n",
       "      <td>False</td>\n",
       "      <td>False</td>\n",
       "      <td>False</td>\n",
       "      <td>False</td>\n",
       "      <td>False</td>\n",
       "      <td>...</td>\n",
       "      <td>False</td>\n",
       "      <td>True</td>\n",
       "      <td>False</td>\n",
       "      <td>False</td>\n",
       "      <td>True</td>\n",
       "      <td>False</td>\n",
       "      <td>False</td>\n",
       "      <td>False</td>\n",
       "      <td>False</td>\n",
       "      <td>True</td>\n",
       "    </tr>\n",
       "    <tr>\n",
       "      <th>1</th>\n",
       "      <td>False</td>\n",
       "      <td>False</td>\n",
       "      <td>False</td>\n",
       "      <td>True</td>\n",
       "      <td>False</td>\n",
       "      <td>False</td>\n",
       "      <td>False</td>\n",
       "      <td>False</td>\n",
       "      <td>False</td>\n",
       "      <td>False</td>\n",
       "      <td>...</td>\n",
       "      <td>False</td>\n",
       "      <td>False</td>\n",
       "      <td>False</td>\n",
       "      <td>True</td>\n",
       "      <td>False</td>\n",
       "      <td>False</td>\n",
       "      <td>False</td>\n",
       "      <td>False</td>\n",
       "      <td>False</td>\n",
       "      <td>False</td>\n",
       "    </tr>\n",
       "    <tr>\n",
       "      <th>2</th>\n",
       "      <td>False</td>\n",
       "      <td>False</td>\n",
       "      <td>False</td>\n",
       "      <td>True</td>\n",
       "      <td>True</td>\n",
       "      <td>True</td>\n",
       "      <td>True</td>\n",
       "      <td>True</td>\n",
       "      <td>True</td>\n",
       "      <td>True</td>\n",
       "      <td>...</td>\n",
       "      <td>False</td>\n",
       "      <td>False</td>\n",
       "      <td>False</td>\n",
       "      <td>False</td>\n",
       "      <td>False</td>\n",
       "      <td>False</td>\n",
       "      <td>False</td>\n",
       "      <td>False</td>\n",
       "      <td>False</td>\n",
       "      <td>False</td>\n",
       "    </tr>\n",
       "    <tr>\n",
       "      <th>3</th>\n",
       "      <td>False</td>\n",
       "      <td>False</td>\n",
       "      <td>True</td>\n",
       "      <td>False</td>\n",
       "      <td>False</td>\n",
       "      <td>False</td>\n",
       "      <td>False</td>\n",
       "      <td>False</td>\n",
       "      <td>False</td>\n",
       "      <td>False</td>\n",
       "      <td>...</td>\n",
       "      <td>True</td>\n",
       "      <td>True</td>\n",
       "      <td>True</td>\n",
       "      <td>False</td>\n",
       "      <td>False</td>\n",
       "      <td>True</td>\n",
       "      <td>False</td>\n",
       "      <td>False</td>\n",
       "      <td>False</td>\n",
       "      <td>False</td>\n",
       "    </tr>\n",
       "    <tr>\n",
       "      <th>4</th>\n",
       "      <td>False</td>\n",
       "      <td>False</td>\n",
       "      <td>False</td>\n",
       "      <td>True</td>\n",
       "      <td>False</td>\n",
       "      <td>False</td>\n",
       "      <td>False</td>\n",
       "      <td>False</td>\n",
       "      <td>False</td>\n",
       "      <td>False</td>\n",
       "      <td>...</td>\n",
       "      <td>False</td>\n",
       "      <td>False</td>\n",
       "      <td>False</td>\n",
       "      <td>True</td>\n",
       "      <td>False</td>\n",
       "      <td>False</td>\n",
       "      <td>False</td>\n",
       "      <td>False</td>\n",
       "      <td>False</td>\n",
       "      <td>False</td>\n",
       "    </tr>\n",
       "    <tr>\n",
       "      <th>...</th>\n",
       "      <td>...</td>\n",
       "      <td>...</td>\n",
       "      <td>...</td>\n",
       "      <td>...</td>\n",
       "      <td>...</td>\n",
       "      <td>...</td>\n",
       "      <td>...</td>\n",
       "      <td>...</td>\n",
       "      <td>...</td>\n",
       "      <td>...</td>\n",
       "      <td>...</td>\n",
       "      <td>...</td>\n",
       "      <td>...</td>\n",
       "      <td>...</td>\n",
       "      <td>...</td>\n",
       "      <td>...</td>\n",
       "      <td>...</td>\n",
       "      <td>...</td>\n",
       "      <td>...</td>\n",
       "      <td>...</td>\n",
       "      <td>...</td>\n",
       "    </tr>\n",
       "    <tr>\n",
       "      <th>1465</th>\n",
       "      <td>False</td>\n",
       "      <td>False</td>\n",
       "      <td>False</td>\n",
       "      <td>False</td>\n",
       "      <td>False</td>\n",
       "      <td>False</td>\n",
       "      <td>False</td>\n",
       "      <td>False</td>\n",
       "      <td>False</td>\n",
       "      <td>False</td>\n",
       "      <td>...</td>\n",
       "      <td>False</td>\n",
       "      <td>False</td>\n",
       "      <td>False</td>\n",
       "      <td>False</td>\n",
       "      <td>False</td>\n",
       "      <td>False</td>\n",
       "      <td>False</td>\n",
       "      <td>True</td>\n",
       "      <td>False</td>\n",
       "      <td>False</td>\n",
       "    </tr>\n",
       "    <tr>\n",
       "      <th>1466</th>\n",
       "      <td>False</td>\n",
       "      <td>False</td>\n",
       "      <td>False</td>\n",
       "      <td>True</td>\n",
       "      <td>True</td>\n",
       "      <td>False</td>\n",
       "      <td>True</td>\n",
       "      <td>True</td>\n",
       "      <td>True</td>\n",
       "      <td>True</td>\n",
       "      <td>...</td>\n",
       "      <td>False</td>\n",
       "      <td>False</td>\n",
       "      <td>False</td>\n",
       "      <td>False</td>\n",
       "      <td>False</td>\n",
       "      <td>False</td>\n",
       "      <td>False</td>\n",
       "      <td>False</td>\n",
       "      <td>False</td>\n",
       "      <td>False</td>\n",
       "    </tr>\n",
       "    <tr>\n",
       "      <th>1467</th>\n",
       "      <td>False</td>\n",
       "      <td>False</td>\n",
       "      <td>False</td>\n",
       "      <td>False</td>\n",
       "      <td>False</td>\n",
       "      <td>False</td>\n",
       "      <td>False</td>\n",
       "      <td>False</td>\n",
       "      <td>False</td>\n",
       "      <td>False</td>\n",
       "      <td>...</td>\n",
       "      <td>False</td>\n",
       "      <td>False</td>\n",
       "      <td>True</td>\n",
       "      <td>False</td>\n",
       "      <td>False</td>\n",
       "      <td>False</td>\n",
       "      <td>False</td>\n",
       "      <td>False</td>\n",
       "      <td>False</td>\n",
       "      <td>False</td>\n",
       "    </tr>\n",
       "    <tr>\n",
       "      <th>1468</th>\n",
       "      <td>False</td>\n",
       "      <td>False</td>\n",
       "      <td>False</td>\n",
       "      <td>False</td>\n",
       "      <td>False</td>\n",
       "      <td>False</td>\n",
       "      <td>False</td>\n",
       "      <td>False</td>\n",
       "      <td>False</td>\n",
       "      <td>False</td>\n",
       "      <td>...</td>\n",
       "      <td>False</td>\n",
       "      <td>False</td>\n",
       "      <td>False</td>\n",
       "      <td>False</td>\n",
       "      <td>False</td>\n",
       "      <td>False</td>\n",
       "      <td>False</td>\n",
       "      <td>True</td>\n",
       "      <td>False</td>\n",
       "      <td>False</td>\n",
       "    </tr>\n",
       "    <tr>\n",
       "      <th>1469</th>\n",
       "      <td>False</td>\n",
       "      <td>False</td>\n",
       "      <td>False</td>\n",
       "      <td>True</td>\n",
       "      <td>False</td>\n",
       "      <td>True</td>\n",
       "      <td>True</td>\n",
       "      <td>False</td>\n",
       "      <td>True</td>\n",
       "      <td>True</td>\n",
       "      <td>...</td>\n",
       "      <td>False</td>\n",
       "      <td>False</td>\n",
       "      <td>False</td>\n",
       "      <td>False</td>\n",
       "      <td>False</td>\n",
       "      <td>False</td>\n",
       "      <td>False</td>\n",
       "      <td>False</td>\n",
       "      <td>False</td>\n",
       "      <td>False</td>\n",
       "    </tr>\n",
       "  </tbody>\n",
       "</table>\n",
       "<p>1470 rows × 40 columns</p>\n",
       "</div>"
      ],
      "text/plain": [
       "          #      +      -      .      0      1      2      3      4      5  \\\n",
       "0     False  False  False  False  False  False  False  False  False  False   \n",
       "1     False  False  False   True  False  False  False  False  False  False   \n",
       "2     False  False  False   True   True   True   True   True   True   True   \n",
       "3     False  False   True  False  False  False  False  False  False  False   \n",
       "4     False  False  False   True  False  False  False  False  False  False   \n",
       "...     ...    ...    ...    ...    ...    ...    ...    ...    ...    ...   \n",
       "1465  False  False  False  False  False  False  False  False  False  False   \n",
       "1466  False  False  False   True   True  False   True   True   True   True   \n",
       "1467  False  False  False  False  False  False  False  False  False  False   \n",
       "1468  False  False  False  False  False  False  False  False  False  False   \n",
       "1469  False  False  False   True  False   True   True  False   True   True   \n",
       "\n",
       "      ...      q      r      s      t      u      v      w      x      y  \\\n",
       "0     ...  False   True  False  False   True  False  False  False  False   \n",
       "1     ...  False  False  False   True  False  False  False  False  False   \n",
       "2     ...  False  False  False  False  False  False  False  False  False   \n",
       "3     ...   True   True   True  False  False   True  False  False  False   \n",
       "4     ...  False  False  False   True  False  False  False  False  False   \n",
       "...   ...    ...    ...    ...    ...    ...    ...    ...    ...    ...   \n",
       "1465  ...  False  False  False  False  False  False  False   True  False   \n",
       "1466  ...  False  False  False  False  False  False  False  False  False   \n",
       "1467  ...  False  False   True  False  False  False  False  False  False   \n",
       "1468  ...  False  False  False  False  False  False  False   True  False   \n",
       "1469  ...  False  False  False  False  False  False  False  False  False   \n",
       "\n",
       "          z  \n",
       "0      True  \n",
       "1     False  \n",
       "2     False  \n",
       "3     False  \n",
       "4     False  \n",
       "...     ...  \n",
       "1465  False  \n",
       "1466  False  \n",
       "1467  False  \n",
       "1468  False  \n",
       "1469  False  \n",
       "\n",
       "[1470 rows x 40 columns]"
      ]
     },
     "execution_count": 6,
     "metadata": {},
     "output_type": "execute_result"
    }
   ],
   "source": [
    "# importing the required module\n",
    "from mlxtend.preprocessing import TransactionEncoder\n",
    "\n",
    "# initializing the transactionEncoder\n",
    "te = TransactionEncoder()\n",
    "te_ary = te.fit(transaction).transform(transaction)\n",
    "dataset = pd.DataFrame(te_ary, columns=te.columns_)\n",
    "\n",
    "# dataset after encoded\n",
    "dataset"
   ]
  },
  {
   "cell_type": "code",
   "execution_count": 9,
   "metadata": {},
   "outputs": [
    {
     "data": {
      "text/html": [
       "<div>\n",
       "<style scoped>\n",
       "    .dataframe tbody tr th:only-of-type {\n",
       "        vertical-align: middle;\n",
       "    }\n",
       "\n",
       "    .dataframe tbody tr th {\n",
       "        vertical-align: top;\n",
       "    }\n",
       "\n",
       "    .dataframe thead th {\n",
       "        text-align: right;\n",
       "    }\n",
       "</style>\n",
       "<table border=\"1\" class=\"dataframe\">\n",
       "  <thead>\n",
       "    <tr style=\"text-align: right;\">\n",
       "      <th></th>\n",
       "      <th>support</th>\n",
       "      <th>itemsets</th>\n",
       "      <th>length</th>\n",
       "    </tr>\n",
       "  </thead>\n",
       "  <tbody>\n",
       "    <tr>\n",
       "      <th>0</th>\n",
       "      <td>0.019048</td>\n",
       "      <td>(#)</td>\n",
       "      <td>1</td>\n",
       "    </tr>\n",
       "    <tr>\n",
       "      <th>1</th>\n",
       "      <td>0.097959</td>\n",
       "      <td>(-)</td>\n",
       "      <td>1</td>\n",
       "    </tr>\n",
       "    <tr>\n",
       "      <th>2</th>\n",
       "      <td>0.386395</td>\n",
       "      <td>(.)</td>\n",
       "      <td>1</td>\n",
       "    </tr>\n",
       "    <tr>\n",
       "      <th>3</th>\n",
       "      <td>0.278912</td>\n",
       "      <td>(0)</td>\n",
       "      <td>1</td>\n",
       "    </tr>\n",
       "    <tr>\n",
       "      <th>4</th>\n",
       "      <td>0.273469</td>\n",
       "      <td>(1)</td>\n",
       "      <td>1</td>\n",
       "    </tr>\n",
       "    <tr>\n",
       "      <th>...</th>\n",
       "      <td>...</td>\n",
       "      <td>...</td>\n",
       "      <td>...</td>\n",
       "    </tr>\n",
       "    <tr>\n",
       "      <th>14152</th>\n",
       "      <td>0.010884</td>\n",
       "      <td>(m, y, -, w, e, o, i, a, k, n, t, r)</td>\n",
       "      <td>12</td>\n",
       "    </tr>\n",
       "    <tr>\n",
       "      <th>14153</th>\n",
       "      <td>0.010884</td>\n",
       "      <td>(m, y, -, w, o, i, a, f, k, n, t, r)</td>\n",
       "      <td>12</td>\n",
       "    </tr>\n",
       "    <tr>\n",
       "      <th>14154</th>\n",
       "      <td>0.010884</td>\n",
       "      <td>(m, y, e, -, w, o, i, f, k, n, t, r)</td>\n",
       "      <td>12</td>\n",
       "    </tr>\n",
       "    <tr>\n",
       "      <th>14155</th>\n",
       "      <td>0.010884</td>\n",
       "      <td>(m, e, y, w, o, i, a, f, k, n, t, r)</td>\n",
       "      <td>12</td>\n",
       "    </tr>\n",
       "    <tr>\n",
       "      <th>14156</th>\n",
       "      <td>0.010884</td>\n",
       "      <td>(m, y, -, w, e, o, i, a, f, k, n, t, r)</td>\n",
       "      <td>13</td>\n",
       "    </tr>\n",
       "  </tbody>\n",
       "</table>\n",
       "<p>14157 rows × 3 columns</p>\n",
       "</div>"
      ],
      "text/plain": [
       "        support                                 itemsets  length\n",
       "0      0.019048                                      (#)       1\n",
       "1      0.097959                                      (-)       1\n",
       "2      0.386395                                      (.)       1\n",
       "3      0.278912                                      (0)       1\n",
       "4      0.273469                                      (1)       1\n",
       "...         ...                                      ...     ...\n",
       "14152  0.010884     (m, y, -, w, e, o, i, a, k, n, t, r)      12\n",
       "14153  0.010884     (m, y, -, w, o, i, a, f, k, n, t, r)      12\n",
       "14154  0.010884     (m, y, e, -, w, o, i, f, k, n, t, r)      12\n",
       "14155  0.010884     (m, e, y, w, o, i, a, f, k, n, t, r)      12\n",
       "14156  0.010884  (m, y, -, w, e, o, i, a, f, k, n, t, r)      13\n",
       "\n",
       "[14157 rows x 3 columns]"
      ]
     },
     "execution_count": 9,
     "metadata": {},
     "output_type": "execute_result"
    }
   ],
   "source": [
    "!#support! and A-Priori Algorithm\n",
    "\n",
    "# importing the required module\n",
    "from mlxtend.frequent_patterns import apriori, association_rules\n",
    "\n",
    "\n",
    "# Extracting the most frequest itemsets via Mlxtend.\n",
    "# The length column has been added to increase ease of filtering.\n",
    "frequent_itemsets = apriori(dataset, min_support=0.01, use_colnames=True)\n",
    "frequent_itemsets['length'] = frequent_itemsets['itemsets'].apply(lambda x: len(x))\n",
    "\n",
    "# printing the frequent itemset\n",
    "frequent_itemsets"
   ]
  },
  {
   "cell_type": "code",
   "execution_count": 10,
   "metadata": {},
   "outputs": [
    {
     "data": {
      "text/html": [
       "<div>\n",
       "<style scoped>\n",
       "    .dataframe tbody tr th:only-of-type {\n",
       "        vertical-align: middle;\n",
       "    }\n",
       "\n",
       "    .dataframe tbody tr th {\n",
       "        vertical-align: top;\n",
       "    }\n",
       "\n",
       "    .dataframe thead th {\n",
       "        text-align: right;\n",
       "    }\n",
       "</style>\n",
       "<table border=\"1\" class=\"dataframe\">\n",
       "  <thead>\n",
       "    <tr style=\"text-align: right;\">\n",
       "      <th></th>\n",
       "      <th>support</th>\n",
       "      <th>itemsets</th>\n",
       "      <th>length</th>\n",
       "    </tr>\n",
       "  </thead>\n",
       "  <tbody>\n",
       "    <tr>\n",
       "      <th>40</th>\n",
       "      <td>0.061224</td>\n",
       "      <td>(-, a)</td>\n",
       "      <td>2</td>\n",
       "    </tr>\n",
       "    <tr>\n",
       "      <th>43</th>\n",
       "      <td>0.078912</td>\n",
       "      <td>(e, -)</td>\n",
       "      <td>2</td>\n",
       "    </tr>\n",
       "    <tr>\n",
       "      <th>46</th>\n",
       "      <td>0.074830</td>\n",
       "      <td>(i, -)</td>\n",
       "      <td>2</td>\n",
       "    </tr>\n",
       "    <tr>\n",
       "      <th>51</th>\n",
       "      <td>0.051701</td>\n",
       "      <td>(n, -)</td>\n",
       "      <td>2</td>\n",
       "    </tr>\n",
       "    <tr>\n",
       "      <th>55</th>\n",
       "      <td>0.072109</td>\n",
       "      <td>(r, -)</td>\n",
       "      <td>2</td>\n",
       "    </tr>\n",
       "    <tr>\n",
       "      <th>...</th>\n",
       "      <td>...</td>\n",
       "      <td>...</td>\n",
       "      <td>...</td>\n",
       "    </tr>\n",
       "    <tr>\n",
       "      <th>335</th>\n",
       "      <td>0.102041</td>\n",
       "      <td>(t, r)</td>\n",
       "      <td>2</td>\n",
       "    </tr>\n",
       "    <tr>\n",
       "      <th>336</th>\n",
       "      <td>0.063946</td>\n",
       "      <td>(u, r)</td>\n",
       "      <td>2</td>\n",
       "    </tr>\n",
       "    <tr>\n",
       "      <th>337</th>\n",
       "      <td>0.057143</td>\n",
       "      <td>(r, v)</td>\n",
       "      <td>2</td>\n",
       "    </tr>\n",
       "    <tr>\n",
       "      <th>342</th>\n",
       "      <td>0.103401</td>\n",
       "      <td>(s, t)</td>\n",
       "      <td>2</td>\n",
       "    </tr>\n",
       "    <tr>\n",
       "      <th>344</th>\n",
       "      <td>0.054422</td>\n",
       "      <td>(s, v)</td>\n",
       "      <td>2</td>\n",
       "    </tr>\n",
       "  </tbody>\n",
       "</table>\n",
       "<p>136 rows × 3 columns</p>\n",
       "</div>"
      ],
      "text/plain": [
       "      support itemsets  length\n",
       "40   0.061224   (-, a)       2\n",
       "43   0.078912   (e, -)       2\n",
       "46   0.074830   (i, -)       2\n",
       "51   0.051701   (n, -)       2\n",
       "55   0.072109   (r, -)       2\n",
       "..        ...      ...     ...\n",
       "335  0.102041   (t, r)       2\n",
       "336  0.063946   (u, r)       2\n",
       "337  0.057143   (r, v)       2\n",
       "342  0.103401   (s, t)       2\n",
       "344  0.054422   (s, v)       2\n",
       "\n",
       "[136 rows x 3 columns]"
      ]
     },
     "execution_count": 10,
     "metadata": {},
     "output_type": "execute_result"
    }
   ],
   "source": [
    "# printing the frequntly items \n",
    "frequent_itemsets[ (frequent_itemsets['length'] == 2) &\n",
    "                   (frequent_itemsets['support'] >= 0.05) ]"
   ]
  },
  {
   "cell_type": "markdown",
   "metadata": {},
   "source": [
    "We know that the association rules are simply the if-else statements. The IF component of an association rule is known as the antecedent. The THEN component is known as the consequent. The antecedent and the consequent are disjoint; they have no items in common.\n",
    "\n",
    "So, let’s create antecedents and consequents:"
   ]
  },
  {
   "cell_type": "code",
   "execution_count": 11,
   "metadata": {},
   "outputs": [
    {
     "data": {
      "text/html": [
       "<div>\n",
       "<style scoped>\n",
       "    .dataframe tbody tr th:only-of-type {\n",
       "        vertical-align: middle;\n",
       "    }\n",
       "\n",
       "    .dataframe tbody tr th {\n",
       "        vertical-align: top;\n",
       "    }\n",
       "\n",
       "    .dataframe thead th {\n",
       "        text-align: right;\n",
       "    }\n",
       "</style>\n",
       "<table border=\"1\" class=\"dataframe\">\n",
       "  <thead>\n",
       "    <tr style=\"text-align: right;\">\n",
       "      <th></th>\n",
       "      <th>antecedents</th>\n",
       "      <th>consequents</th>\n",
       "      <th>antecedent support</th>\n",
       "      <th>consequent support</th>\n",
       "      <th>support</th>\n",
       "      <th>confidence</th>\n",
       "      <th>lift</th>\n",
       "      <th>leverage</th>\n",
       "      <th>conviction</th>\n",
       "      <th>antecedents_length</th>\n",
       "      <th>consequents_length</th>\n",
       "    </tr>\n",
       "  </thead>\n",
       "  <tbody>\n",
       "    <tr>\n",
       "      <th>1774170</th>\n",
       "      <td>(m, -, y, o, i, f)</td>\n",
       "      <td>(e, a, k, t, r)</td>\n",
       "      <td>0.010884</td>\n",
       "      <td>0.010884</td>\n",
       "      <td>0.010884</td>\n",
       "      <td>1.000000</td>\n",
       "      <td>91.875000</td>\n",
       "      <td>0.010766</td>\n",
       "      <td>inf</td>\n",
       "      <td>6</td>\n",
       "      <td>5</td>\n",
       "    </tr>\n",
       "    <tr>\n",
       "      <th>1770289</th>\n",
       "      <td>(-, y, w, i, a, k)</td>\n",
       "      <td>(m, e, f, n, t)</td>\n",
       "      <td>0.010884</td>\n",
       "      <td>0.010884</td>\n",
       "      <td>0.010884</td>\n",
       "      <td>1.000000</td>\n",
       "      <td>91.875000</td>\n",
       "      <td>0.010766</td>\n",
       "      <td>inf</td>\n",
       "      <td>6</td>\n",
       "      <td>5</td>\n",
       "    </tr>\n",
       "    <tr>\n",
       "      <th>1770276</th>\n",
       "      <td>(e, -, y, w, i, n)</td>\n",
       "      <td>(m, a, f, k, t)</td>\n",
       "      <td>0.010884</td>\n",
       "      <td>0.010884</td>\n",
       "      <td>0.010884</td>\n",
       "      <td>1.000000</td>\n",
       "      <td>91.875000</td>\n",
       "      <td>0.010766</td>\n",
       "      <td>inf</td>\n",
       "      <td>6</td>\n",
       "      <td>5</td>\n",
       "    </tr>\n",
       "    <tr>\n",
       "      <th>1770278</th>\n",
       "      <td>(e, -, y, w, a, f)</td>\n",
       "      <td>(m, i, k, n, t)</td>\n",
       "      <td>0.010884</td>\n",
       "      <td>0.010884</td>\n",
       "      <td>0.010884</td>\n",
       "      <td>1.000000</td>\n",
       "      <td>91.875000</td>\n",
       "      <td>0.010766</td>\n",
       "      <td>inf</td>\n",
       "      <td>6</td>\n",
       "      <td>5</td>\n",
       "    </tr>\n",
       "    <tr>\n",
       "      <th>1770279</th>\n",
       "      <td>(e, -, y, w, a, k)</td>\n",
       "      <td>(m, i, f, n, t)</td>\n",
       "      <td>0.010884</td>\n",
       "      <td>0.010884</td>\n",
       "      <td>0.010884</td>\n",
       "      <td>1.000000</td>\n",
       "      <td>91.875000</td>\n",
       "      <td>0.010766</td>\n",
       "      <td>inf</td>\n",
       "      <td>6</td>\n",
       "      <td>5</td>\n",
       "    </tr>\n",
       "    <tr>\n",
       "      <th>...</th>\n",
       "      <td>...</td>\n",
       "      <td>...</td>\n",
       "      <td>...</td>\n",
       "      <td>...</td>\n",
       "      <td>...</td>\n",
       "      <td>...</td>\n",
       "      <td>...</td>\n",
       "      <td>...</td>\n",
       "      <td>...</td>\n",
       "      <td>...</td>\n",
       "      <td>...</td>\n",
       "    </tr>\n",
       "    <tr>\n",
       "      <th>19092</th>\n",
       "      <td>(p, r)</td>\n",
       "      <td>(e, a)</td>\n",
       "      <td>0.088435</td>\n",
       "      <td>0.127891</td>\n",
       "      <td>0.013605</td>\n",
       "      <td>0.153846</td>\n",
       "      <td>1.202946</td>\n",
       "      <td>0.002295</td>\n",
       "      <td>1.030674</td>\n",
       "      <td>2</td>\n",
       "      <td>2</td>\n",
       "    </tr>\n",
       "    <tr>\n",
       "      <th>389</th>\n",
       "      <td>(j)</td>\n",
       "      <td>(o)</td>\n",
       "      <td>0.130612</td>\n",
       "      <td>0.164626</td>\n",
       "      <td>0.025850</td>\n",
       "      <td>0.197917</td>\n",
       "      <td>1.202221</td>\n",
       "      <td>0.004348</td>\n",
       "      <td>1.041505</td>\n",
       "      <td>1</td>\n",
       "      <td>1</td>\n",
       "    </tr>\n",
       "    <tr>\n",
       "      <th>388</th>\n",
       "      <td>(o)</td>\n",
       "      <td>(j)</td>\n",
       "      <td>0.164626</td>\n",
       "      <td>0.130612</td>\n",
       "      <td>0.025850</td>\n",
       "      <td>0.157025</td>\n",
       "      <td>1.202221</td>\n",
       "      <td>0.004348</td>\n",
       "      <td>1.031333</td>\n",
       "      <td>1</td>\n",
       "      <td>1</td>\n",
       "    </tr>\n",
       "    <tr>\n",
       "      <th>4253</th>\n",
       "      <td>(e)</td>\n",
       "      <td>(n, j)</td>\n",
       "      <td>0.295238</td>\n",
       "      <td>0.042177</td>\n",
       "      <td>0.014966</td>\n",
       "      <td>0.050691</td>\n",
       "      <td>1.201873</td>\n",
       "      <td>0.002514</td>\n",
       "      <td>1.008969</td>\n",
       "      <td>1</td>\n",
       "      <td>2</td>\n",
       "    </tr>\n",
       "    <tr>\n",
       "      <th>4252</th>\n",
       "      <td>(n, j)</td>\n",
       "      <td>(e)</td>\n",
       "      <td>0.042177</td>\n",
       "      <td>0.295238</td>\n",
       "      <td>0.014966</td>\n",
       "      <td>0.354839</td>\n",
       "      <td>1.201873</td>\n",
       "      <td>0.002514</td>\n",
       "      <td>1.092381</td>\n",
       "      <td>2</td>\n",
       "      <td>1</td>\n",
       "    </tr>\n",
       "  </tbody>\n",
       "</table>\n",
       "<p>1974092 rows × 11 columns</p>\n",
       "</div>"
      ],
      "text/plain": [
       "                antecedents      consequents  antecedent support  \\\n",
       "1774170  (m, -, y, o, i, f)  (e, a, k, t, r)            0.010884   \n",
       "1770289  (-, y, w, i, a, k)  (m, e, f, n, t)            0.010884   \n",
       "1770276  (e, -, y, w, i, n)  (m, a, f, k, t)            0.010884   \n",
       "1770278  (e, -, y, w, a, f)  (m, i, k, n, t)            0.010884   \n",
       "1770279  (e, -, y, w, a, k)  (m, i, f, n, t)            0.010884   \n",
       "...                     ...              ...                 ...   \n",
       "19092                (p, r)           (e, a)            0.088435   \n",
       "389                     (j)              (o)            0.130612   \n",
       "388                     (o)              (j)            0.164626   \n",
       "4253                    (e)           (n, j)            0.295238   \n",
       "4252                 (n, j)              (e)            0.042177   \n",
       "\n",
       "         consequent support   support  confidence       lift  leverage  \\\n",
       "1774170            0.010884  0.010884    1.000000  91.875000  0.010766   \n",
       "1770289            0.010884  0.010884    1.000000  91.875000  0.010766   \n",
       "1770276            0.010884  0.010884    1.000000  91.875000  0.010766   \n",
       "1770278            0.010884  0.010884    1.000000  91.875000  0.010766   \n",
       "1770279            0.010884  0.010884    1.000000  91.875000  0.010766   \n",
       "...                     ...       ...         ...        ...       ...   \n",
       "19092              0.127891  0.013605    0.153846   1.202946  0.002295   \n",
       "389                0.164626  0.025850    0.197917   1.202221  0.004348   \n",
       "388                0.130612  0.025850    0.157025   1.202221  0.004348   \n",
       "4253               0.042177  0.014966    0.050691   1.201873  0.002514   \n",
       "4252               0.295238  0.014966    0.354839   1.201873  0.002514   \n",
       "\n",
       "         conviction  antecedents_length  consequents_length  \n",
       "1774170         inf                   6                   5  \n",
       "1770289         inf                   6                   5  \n",
       "1770276         inf                   6                   5  \n",
       "1770278         inf                   6                   5  \n",
       "1770279         inf                   6                   5  \n",
       "...             ...                 ...                 ...  \n",
       "19092      1.030674                   2                   2  \n",
       "389        1.041505                   1                   1  \n",
       "388        1.031333                   1                   1  \n",
       "4253       1.008969                   1                   2  \n",
       "4252       1.092381                   2                   1  \n",
       "\n",
       "[1974092 rows x 11 columns]"
      ]
     },
     "execution_count": 11,
     "metadata": {},
     "output_type": "execute_result"
    }
   ],
   "source": [
    "#CONFIDENCE || LIFT\n",
    "\n",
    "#  We set our metric as \"Lift\" to define whether antecedents & consequents are dependent our not\n",
    "rules = association_rules(frequent_itemsets, metric=\"lift\", min_threshold=1.2)\n",
    "rules[\"antecedents_length\"] = rules[\"antecedents\"].apply(lambda x: len(x))\n",
    "rules[\"consequents_length\"] = rules[\"consequents\"].apply(lambda x: len(x))\n",
    "rules.sort_values(\"lift\",ascending=False)"
   ]
  },
  {
   "cell_type": "code",
   "execution_count": 12,
   "metadata": {},
   "outputs": [
    {
     "data": {
      "text/html": [
       "<div>\n",
       "<style scoped>\n",
       "    .dataframe tbody tr th:only-of-type {\n",
       "        vertical-align: middle;\n",
       "    }\n",
       "\n",
       "    .dataframe tbody tr th {\n",
       "        vertical-align: top;\n",
       "    }\n",
       "\n",
       "    .dataframe thead th {\n",
       "        text-align: right;\n",
       "    }\n",
       "</style>\n",
       "<table border=\"1\" class=\"dataframe\">\n",
       "  <thead>\n",
       "    <tr style=\"text-align: right;\">\n",
       "      <th></th>\n",
       "      <th>antecedents</th>\n",
       "      <th>consequents</th>\n",
       "      <th>antecedent support</th>\n",
       "      <th>consequent support</th>\n",
       "      <th>support</th>\n",
       "      <th>confidence</th>\n",
       "      <th>lift</th>\n",
       "      <th>leverage</th>\n",
       "      <th>conviction</th>\n",
       "      <th>antecedents_length</th>\n",
       "      <th>consequents_length</th>\n",
       "    </tr>\n",
       "  </thead>\n",
       "  <tbody>\n",
       "    <tr>\n",
       "      <th>0</th>\n",
       "      <td>(#)</td>\n",
       "      <td>(c)</td>\n",
       "      <td>0.019048</td>\n",
       "      <td>0.168707</td>\n",
       "      <td>0.019048</td>\n",
       "      <td>1.000000</td>\n",
       "      <td>5.927419</td>\n",
       "      <td>0.015834</td>\n",
       "      <td>inf</td>\n",
       "      <td>1</td>\n",
       "      <td>1</td>\n",
       "    </tr>\n",
       "    <tr>\n",
       "      <th>1122167</th>\n",
       "      <td>(-, y, w, i, t, r)</td>\n",
       "      <td>(o, e, a)</td>\n",
       "      <td>0.010884</td>\n",
       "      <td>0.031293</td>\n",
       "      <td>0.010884</td>\n",
       "      <td>1.000000</td>\n",
       "      <td>31.956522</td>\n",
       "      <td>0.010544</td>\n",
       "      <td>inf</td>\n",
       "      <td>6</td>\n",
       "      <td>3</td>\n",
       "    </tr>\n",
       "    <tr>\n",
       "      <th>1122174</th>\n",
       "      <td>(e, -, y, o, t, r)</td>\n",
       "      <td>(a, i, w)</td>\n",
       "      <td>0.010884</td>\n",
       "      <td>0.038095</td>\n",
       "      <td>0.010884</td>\n",
       "      <td>1.000000</td>\n",
       "      <td>26.250000</td>\n",
       "      <td>0.010470</td>\n",
       "      <td>inf</td>\n",
       "      <td>6</td>\n",
       "      <td>3</td>\n",
       "    </tr>\n",
       "    <tr>\n",
       "      <th>1122173</th>\n",
       "      <td>(e, -, y, o, a, r)</td>\n",
       "      <td>(t, i, w)</td>\n",
       "      <td>0.010884</td>\n",
       "      <td>0.036735</td>\n",
       "      <td>0.010884</td>\n",
       "      <td>1.000000</td>\n",
       "      <td>27.222222</td>\n",
       "      <td>0.010485</td>\n",
       "      <td>inf</td>\n",
       "      <td>6</td>\n",
       "      <td>3</td>\n",
       "    </tr>\n",
       "    <tr>\n",
       "      <th>1122172</th>\n",
       "      <td>(e, -, y, o, a, t)</td>\n",
       "      <td>(i, r, w)</td>\n",
       "      <td>0.010884</td>\n",
       "      <td>0.032653</td>\n",
       "      <td>0.010884</td>\n",
       "      <td>1.000000</td>\n",
       "      <td>30.625000</td>\n",
       "      <td>0.010529</td>\n",
       "      <td>inf</td>\n",
       "      <td>6</td>\n",
       "      <td>3</td>\n",
       "    </tr>\n",
       "    <tr>\n",
       "      <th>...</th>\n",
       "      <td>...</td>\n",
       "      <td>...</td>\n",
       "      <td>...</td>\n",
       "      <td>...</td>\n",
       "      <td>...</td>\n",
       "      <td>...</td>\n",
       "      <td>...</td>\n",
       "      <td>...</td>\n",
       "      <td>...</td>\n",
       "      <td>...</td>\n",
       "      <td>...</td>\n",
       "    </tr>\n",
       "    <tr>\n",
       "      <th>233717</th>\n",
       "      <td>(s)</td>\n",
       "      <td>(e, a, t, p, r)</td>\n",
       "      <td>0.318367</td>\n",
       "      <td>0.010884</td>\n",
       "      <td>0.010884</td>\n",
       "      <td>0.034188</td>\n",
       "      <td>3.141026</td>\n",
       "      <td>0.007419</td>\n",
       "      <td>1.024129</td>\n",
       "      <td>1</td>\n",
       "      <td>5</td>\n",
       "    </tr>\n",
       "    <tr>\n",
       "      <th>6254</th>\n",
       "      <td>(s)</td>\n",
       "      <td>(q, p)</td>\n",
       "      <td>0.318367</td>\n",
       "      <td>0.010884</td>\n",
       "      <td>0.010884</td>\n",
       "      <td>0.034188</td>\n",
       "      <td>3.141026</td>\n",
       "      <td>0.007419</td>\n",
       "      <td>1.024129</td>\n",
       "      <td>1</td>\n",
       "      <td>2</td>\n",
       "    </tr>\n",
       "    <tr>\n",
       "      <th>233598</th>\n",
       "      <td>(s)</td>\n",
       "      <td>(e, w, o, a, t)</td>\n",
       "      <td>0.318367</td>\n",
       "      <td>0.021769</td>\n",
       "      <td>0.010884</td>\n",
       "      <td>0.034188</td>\n",
       "      <td>1.570513</td>\n",
       "      <td>0.003954</td>\n",
       "      <td>1.012859</td>\n",
       "      <td>1</td>\n",
       "      <td>5</td>\n",
       "    </tr>\n",
       "    <tr>\n",
       "      <th>233287</th>\n",
       "      <td>(s)</td>\n",
       "      <td>(e, o, a, t, r)</td>\n",
       "      <td>0.318367</td>\n",
       "      <td>0.021769</td>\n",
       "      <td>0.010884</td>\n",
       "      <td>0.034188</td>\n",
       "      <td>1.570513</td>\n",
       "      <td>0.003954</td>\n",
       "      <td>1.012859</td>\n",
       "      <td>1</td>\n",
       "      <td>5</td>\n",
       "    </tr>\n",
       "    <tr>\n",
       "      <th>330436</th>\n",
       "      <td>(s)</td>\n",
       "      <td>(-, e, a, t, p, r)</td>\n",
       "      <td>0.318367</td>\n",
       "      <td>0.010884</td>\n",
       "      <td>0.010884</td>\n",
       "      <td>0.034188</td>\n",
       "      <td>3.141026</td>\n",
       "      <td>0.007419</td>\n",
       "      <td>1.024129</td>\n",
       "      <td>1</td>\n",
       "      <td>6</td>\n",
       "    </tr>\n",
       "  </tbody>\n",
       "</table>\n",
       "<p>1974092 rows × 11 columns</p>\n",
       "</div>"
      ],
      "text/plain": [
       "                antecedents         consequents  antecedent support  \\\n",
       "0                       (#)                 (c)            0.019048   \n",
       "1122167  (-, y, w, i, t, r)           (o, e, a)            0.010884   \n",
       "1122174  (e, -, y, o, t, r)           (a, i, w)            0.010884   \n",
       "1122173  (e, -, y, o, a, r)           (t, i, w)            0.010884   \n",
       "1122172  (e, -, y, o, a, t)           (i, r, w)            0.010884   \n",
       "...                     ...                 ...                 ...   \n",
       "233717                  (s)     (e, a, t, p, r)            0.318367   \n",
       "6254                    (s)              (q, p)            0.318367   \n",
       "233598                  (s)     (e, w, o, a, t)            0.318367   \n",
       "233287                  (s)     (e, o, a, t, r)            0.318367   \n",
       "330436                  (s)  (-, e, a, t, p, r)            0.318367   \n",
       "\n",
       "         consequent support   support  confidence       lift  leverage  \\\n",
       "0                  0.168707  0.019048    1.000000   5.927419  0.015834   \n",
       "1122167            0.031293  0.010884    1.000000  31.956522  0.010544   \n",
       "1122174            0.038095  0.010884    1.000000  26.250000  0.010470   \n",
       "1122173            0.036735  0.010884    1.000000  27.222222  0.010485   \n",
       "1122172            0.032653  0.010884    1.000000  30.625000  0.010529   \n",
       "...                     ...       ...         ...        ...       ...   \n",
       "233717             0.010884  0.010884    0.034188   3.141026  0.007419   \n",
       "6254               0.010884  0.010884    0.034188   3.141026  0.007419   \n",
       "233598             0.021769  0.010884    0.034188   1.570513  0.003954   \n",
       "233287             0.021769  0.010884    0.034188   1.570513  0.003954   \n",
       "330436             0.010884  0.010884    0.034188   3.141026  0.007419   \n",
       "\n",
       "         conviction  antecedents_length  consequents_length  \n",
       "0               inf                   1                   1  \n",
       "1122167         inf                   6                   3  \n",
       "1122174         inf                   6                   3  \n",
       "1122173         inf                   6                   3  \n",
       "1122172         inf                   6                   3  \n",
       "...             ...                 ...                 ...  \n",
       "233717     1.024129                   1                   5  \n",
       "6254       1.024129                   1                   2  \n",
       "233598     1.012859                   1                   5  \n",
       "233287     1.012859                   1                   5  \n",
       "330436     1.024129                   1                   6  \n",
       "\n",
       "[1974092 rows x 11 columns]"
      ]
     },
     "execution_count": 12,
     "metadata": {},
     "output_type": "execute_result"
    }
   ],
   "source": [
    "# Sort values based on confidence\n",
    "rules.sort_values(\"confidence\",ascending=False)"
   ]
  }
 ],
 "metadata": {
  "interpreter": {
   "hash": "688fca350cd3b74e2b95f53c91d2c921eb2baa16b4bdfc0905d1e5604e98ec12"
  },
  "kernelspec": {
   "display_name": "Python 3.9.7 ('base')",
   "language": "python",
   "name": "python3"
  },
  "language_info": {
   "codemirror_mode": {
    "name": "ipython",
    "version": 3
   },
   "file_extension": ".py",
   "mimetype": "text/x-python",
   "name": "python",
   "nbconvert_exporter": "python",
   "pygments_lexer": "ipython3",
   "version": "3.9.7"
  },
  "orig_nbformat": 4
 },
 "nbformat": 4,
 "nbformat_minor": 2
}
