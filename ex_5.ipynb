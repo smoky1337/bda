{
 "cells": [
  {
   "cell_type": "markdown",
   "source": [
    "# 1"
   ],
   "metadata": {
    "collapsed": false,
    "pycharm": {
     "name": "#%% md\n"
    }
   }
  },
  {
   "cell_type": "code",
   "execution_count": 108,
   "outputs": [
    {
     "data": {
      "text/plain": "        song-1  song-2  song-3  song-4  song-5  song-6  song-7  song-8\nuser-1     5.0     NaN     NaN     4.0     1.0     1.0     NaN     NaN\nuser-2     NaN     1.0     NaN     NaN     NaN     5.0     4.0     2.0\nuser-3     NaN     NaN     2.0     5.0     NaN     2.0     NaN     NaN\nuser-4     2.0     2.0     NaN     NaN     5.0     NaN     NaN     NaN\nuser-5     NaN     5.0     3.0     5.0     NaN     NaN     1.0     NaN",
      "text/html": "<div>\n<style scoped>\n    .dataframe tbody tr th:only-of-type {\n        vertical-align: middle;\n    }\n\n    .dataframe tbody tr th {\n        vertical-align: top;\n    }\n\n    .dataframe thead th {\n        text-align: right;\n    }\n</style>\n<table border=\"1\" class=\"dataframe\">\n  <thead>\n    <tr style=\"text-align: right;\">\n      <th></th>\n      <th>song-1</th>\n      <th>song-2</th>\n      <th>song-3</th>\n      <th>song-4</th>\n      <th>song-5</th>\n      <th>song-6</th>\n      <th>song-7</th>\n      <th>song-8</th>\n    </tr>\n  </thead>\n  <tbody>\n    <tr>\n      <th>user-1</th>\n      <td>5.0</td>\n      <td>NaN</td>\n      <td>NaN</td>\n      <td>4.0</td>\n      <td>1.0</td>\n      <td>1.0</td>\n      <td>NaN</td>\n      <td>NaN</td>\n    </tr>\n    <tr>\n      <th>user-2</th>\n      <td>NaN</td>\n      <td>1.0</td>\n      <td>NaN</td>\n      <td>NaN</td>\n      <td>NaN</td>\n      <td>5.0</td>\n      <td>4.0</td>\n      <td>2.0</td>\n    </tr>\n    <tr>\n      <th>user-3</th>\n      <td>NaN</td>\n      <td>NaN</td>\n      <td>2.0</td>\n      <td>5.0</td>\n      <td>NaN</td>\n      <td>2.0</td>\n      <td>NaN</td>\n      <td>NaN</td>\n    </tr>\n    <tr>\n      <th>user-4</th>\n      <td>2.0</td>\n      <td>2.0</td>\n      <td>NaN</td>\n      <td>NaN</td>\n      <td>5.0</td>\n      <td>NaN</td>\n      <td>NaN</td>\n      <td>NaN</td>\n    </tr>\n    <tr>\n      <th>user-5</th>\n      <td>NaN</td>\n      <td>5.0</td>\n      <td>3.0</td>\n      <td>5.0</td>\n      <td>NaN</td>\n      <td>NaN</td>\n      <td>1.0</td>\n      <td>NaN</td>\n    </tr>\n  </tbody>\n</table>\n</div>"
     },
     "metadata": {},
     "output_type": "display_data"
    }
   ],
   "source": [
    "import pandas as pd\n",
    "import numpy as np\n",
    "num_users = 5\n",
    "num_items = 8\n",
    "utility =  None\n",
    "utility_original = None\n",
    "utility = pd. DataFrame (np.nan,\n",
    "                         index =[f\"user-{i}\" for i in range (1, num_users +1)],\n",
    "                         columns =[f\"song-{j}\" for j in range (1, num_items +1) ])\n",
    "\n",
    "\n",
    "artists = {\n",
    "\"artist-1\": [\"song-1\", \"song-2\", \"song-3\"],\n",
    "\"artist-2\": [\"song-4\"],\n",
    "\"artist-3\": [\"song-5\", \"song-6\"],\n",
    "\"artist-4\": [\"song-7\", \"song-8\"]\n",
    "}\n",
    "user_likes = \"\"\"\n",
    "user-1 song-1 5\n",
    "user-1 song-4 4\n",
    "user-1 song-5 1\n",
    "user-1 song-6 1\n",
    "user-2 song-2 1\n",
    "user-2 song-6 5\n",
    "user-2 song-7 4\n",
    "user-2 song-8 2\n",
    "user-3 song-3 2\n",
    "user-3 song-4 5\n",
    "user-3 song-6 2\n",
    "user-4 song-1 2\n",
    "user-4 song-5 5\n",
    "user-4 song-2 2\n",
    "user-5 song-7 1\n",
    "user-5 song-2 5\n",
    "user-5 song-3 3\n",
    "user-5 song-4 5\n",
    "\"\"\"\n",
    "for user_id , song , rating in [line.split(\" \") for line in filter(lambda line:line.strip() != \"\", user_likes.strip().split(\"\\n\"))]:\n",
    "    rating = np.float64( rating )\n",
    "    utility.at[ user_id , song ] = rating\n",
    "utility_original = utility.copy()\n",
    "display(utility)\n"
   ],
   "metadata": {
    "collapsed": false,
    "pycharm": {
     "name": "#%%\n"
    }
   }
  },
  {
   "cell_type": "code",
   "execution_count": 109,
   "outputs": [
    {
     "name": "stdout",
     "output_type": "stream",
     "text": [
      "        song-1  song-2  song-3  song-4  song-5  song-6  song-7  song-8\n",
      "user-1   3.625   0.000   0.000   2.625  -0.375  -0.375    0.00     0.0\n",
      "user-2   0.000  -0.500   0.000   0.000   0.000   3.500    2.50     0.5\n",
      "user-3   0.000   0.000   0.875   3.875   0.000   0.875    0.00     0.0\n",
      "user-4   0.875   0.875   0.000   0.000   3.875   0.000    0.00     0.0\n",
      "user-5   0.000   3.250   1.250   3.250   0.000   0.000   -0.75     0.0\n"
     ]
    }
   ],
   "source": [
    "utility = utility.replace(np.nan, 0)\n",
    "utility = utility[utility != 0].sub(utility.mean(axis=1), axis=0)\n",
    "utility = utility.replace(np.nan, 0)\n",
    "print(utility)"
   ],
   "metadata": {
    "collapsed": false,
    "pycharm": {
     "name": "#%%\n"
    }
   }
  },
  {
   "cell_type": "code",
   "execution_count": 110,
   "outputs": [],
   "source": [
    "cos_sim = lambda a,b : (a @ b.T) / (np.linalg.norm(a)*np.linalg.norm(b))"
   ],
   "metadata": {
    "collapsed": false,
    "pycharm": {
     "name": "#%%\n"
    }
   }
  },
  {
   "cell_type": "code",
   "execution_count": 111,
   "outputs": [
    {
     "data": {
      "text/plain": "-0.06680990011245666"
     },
     "execution_count": 111,
     "metadata": {},
     "output_type": "execute_result"
    }
   ],
   "source": [
    "cos_sim(utility.iloc[0], utility.iloc[1])"
   ],
   "metadata": {
    "collapsed": false,
    "pycharm": {
     "name": "#%%\n"
    }
   }
  },
  {
   "cell_type": "code",
   "execution_count": 112,
   "outputs": [
    {
     "data": {
      "text/plain": "0.5369339849200522"
     },
     "execution_count": 112,
     "metadata": {},
     "output_type": "execute_result"
    }
   ],
   "source": [
    "cos_sim(utility.iloc[0], utility.iloc[2])"
   ],
   "metadata": {
    "collapsed": false,
    "pycharm": {
     "name": "#%%\n"
    }
   }
  },
  {
   "cell_type": "markdown",
   "source": [
    "The taste of U1 and U2 are at -0.066 cos, so not very similiar. U1 and U3 are more similiar with a cos_sim of 0.536"
   ],
   "metadata": {
    "collapsed": false,
    "pycharm": {
     "name": "#%% md\n"
    }
   }
  },
  {
   "cell_type": "code",
   "execution_count": 136,
   "outputs": [
    {
     "data": {
      "text/plain": "0.2316968765669151"
     },
     "execution_count": 136,
     "metadata": {},
     "output_type": "execute_result"
    }
   ],
   "source": [
    "def recommend(u_id, i_id, um, m=3):\n",
    "    sims = []\n",
    "    sums=None\n",
    "    for i,_ in enumerate(um.index):\n",
    "        if i == u_id:\n",
    "            continue\n",
    "        sims.append((i, (cos_sim(utility.iloc[u_id], utility.iloc[i]))))\n",
    "    sims = np.sort(np.array(sims, dtype=[(\"x\",int), (\"y\", float)]), order=\"y\")[::-1][:m]\n",
    "    for user,sim in sims:\n",
    "        if sums == None:\n",
    "            sums = sim * utility.iloc[user][i_id]\n",
    "        else:\n",
    "            sums += sim * utility.iloc[user][i_id]\n",
    "    return (1/m) * sums\n",
    "\n",
    "recommend(4,5,utility,m = 2)"
   ],
   "metadata": {
    "collapsed": false,
    "pycharm": {
     "name": "#%%\n"
    }
   }
  },
  {
   "cell_type": "code",
   "execution_count": 140,
   "outputs": [
    {
     "name": "stdout",
     "output_type": "stream",
     "text": [
      "User-5 will like song-6 with 3 recommenders -0.029861045062920658\n",
      "User-5 will like song-6 with 3 recommenders 0.3874839089792117\n"
     ]
    }
   ],
   "source": [
    "print(\"User-5 will like song-6 with 4 recommenders\", recommend(4,5,utility,m = 4))\n",
    "print(\"User-5 will like song-6 with 4 recommenders\", recommend(4,0,utility,m = 4))"
   ],
   "metadata": {
    "collapsed": false,
    "pycharm": {
     "name": "#%%\n"
    }
   }
  },
  {
   "cell_type": "code",
   "execution_count": 132,
   "outputs": [
    {
     "ename": "TypeError",
     "evalue": "unsupported operand type(s) for +: 'NoneType' and 'int'",
     "output_type": "error",
     "traceback": [
      "\u001B[1;31m---------------------------------------------------------------------------\u001B[0m",
      "\u001B[1;31mTypeError\u001B[0m                                 Traceback (most recent call last)",
      "Input \u001B[1;32mIn [132]\u001B[0m, in \u001B[0;36m<cell line: 1>\u001B[1;34m()\u001B[0m\n\u001B[1;32m----> 1\u001B[0m \u001B[38;5;28;43;01mNone\u001B[39;49;00m\u001B[43m \u001B[49m\u001B[38;5;241;43m+\u001B[39;49m\u001B[38;5;241;43m1\u001B[39;49m\n",
      "\u001B[1;31mTypeError\u001B[0m: unsupported operand type(s) for +: 'NoneType' and 'int'"
     ]
    }
   ],
   "source": [],
   "metadata": {
    "collapsed": false,
    "pycharm": {
     "name": "#%%\n"
    }
   }
  },
  {
   "cell_type": "code",
   "execution_count": null,
   "outputs": [],
   "source": [],
   "metadata": {
    "collapsed": false,
    "pycharm": {
     "name": "#%%\n"
    }
   }
  }
 ],
 "metadata": {
  "kernelspec": {
   "display_name": "Python 3",
   "language": "python",
   "name": "python3"
  },
  "language_info": {
   "codemirror_mode": {
    "name": "ipython",
    "version": 3
   },
   "file_extension": ".py",
   "mimetype": "text/x-python",
   "name": "python",
   "nbconvert_exporter": "python",
   "pygments_lexer": "ipython3",
   "version": "3.7.10"
  }
 },
 "nbformat": 4,
 "nbformat_minor": 4
}