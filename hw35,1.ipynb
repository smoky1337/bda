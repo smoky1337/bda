{
  "metadata": {
    "language_info": {
      "codemirror_mode": {
        "name": "python",
        "version": 3
      },
      "file_extension": ".py",
      "mimetype": "text/x-python",
      "name": "python",
      "nbconvert_exporter": "python",
      "pygments_lexer": "ipython3",
      "version": "3.8"
    },
    "kernelspec": {
      "name": "python",
      "display_name": "Pyolite",
      "language": "python"
    }
  },
  "nbformat_minor": 4,
  "nbformat": 4,
  "cells": [
    {
      "cell_type": "markdown",
      "source": "5a)(For first graph)\nA=2,B=1,C=0  Let N be the total number of pages we create N x N matrix A by defining (i,j) \n\na(^i,j)={1/L(j)\n         0 if there is a link from j to i otherwise\n         \n         \nMatrix 3x3   [0,0,0\n             1/2,0,0\n             1/2,0,0\n             1/2,1,0]\n         \n(For second graph)\nA=2,B=1,C=1\n         \n         A=[0,0,0\n           1/2,0,0\n           1/2,0,0\n           1/2,1,1]\n5b)\nFirst graph\nIteration 0\nA->1/3\nB->1/3\nC->1/3\nIteration 1\nA->0\nB->2/3\nC->2/3\nIteration 2\nA->1/3\nB->3\nC->3\nWhen the sum(prevPR-actualPR)<epsilon then stop the algorithm. It means that the pagerank values do not change significantly so no need for further iterations\nSecond Graph\nIteration 0\nA->2/3\nB->1/3\nC->1/3\nIteration 1\nA->4/3\nB->4/3\nC->2\nIteration 2\nA->0\nB->8/3\nC->2/3                                      \nSame result for second graph sum prevPR-actualPr<epsilon so algorithm should stop.Doesnt change significantly.\n\n5c)In first graph,A has 2 links and B has one link, C doesnt return anything.Total number pages of A is 2,B is 1,C is 0.Iterions showed that page ranks does not change significantly,In second graph,links for A and B is same but for C is different.C is linked to itself.So C's pages is 1 but for iterations nothing changes.",
      "metadata": {}
    },
    {
      "cell_type": "markdown",
      "source": "1a)If we multiply n ×n matrices M and N to get matrix P, then there are 2n2 inputs, mij and njk, and there are n2 outputs pik. \nEach output pik is related to 2n inputs: mi1,mi2,...,min and n1k,n2k,...,nnk. Moreover, each input is related56.For example, mij is related to pi1,pi2,...,pin. \nFigure shows the input-output relationship for matrix multiplication for the simple case of 2 ×2 matrices, specifically\n \n[a,b ,[e,f\n c,d],g,h] \n \n a->i,j\n b->i,j\n c->k,l\n d->k,l\n e->i,k\n f->j,l\n g->i,k\n h->j,l\n 1b)\nimport seaborn as sns\nplanets = sns.load_dataset('planets')\nplanets.shape\nrng = np.random.RandomState(0)\ndf = pd.DataFrame({'key': ['A', 'B', 'C', 'A', 'B', 'C'],\n                   'data1': range(6),\n                   'data2': rng.randint(0, 10, 6)},\n                   columns = ['key', 'data1', 'data2'])\ndf.groupby('key').aggregate(['min', np.median, max])",
      "metadata": {}
    }
  ]
}