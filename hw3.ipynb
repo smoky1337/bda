{
 "cells": [
  {
   "cell_type": "markdown",
   "metadata": {},
   "source": [
    "## 2)\n",
    "### a)  \n",
    "It is probabilistic because it only approximates whether a given input should be filtered or not. Therefore, given the example in the lecture, as 11.75% of bits are mapped to 1 initially, the probability of a nonmember (i.e. a spam email) being mapped to 1 (so let throught) is also 11.75%, so about 1 out of 8 spam emails still get through. \n",
    "\n",
    "### b)\n",
    "Given a set $S$ with $m$ members, an array with $n$ bits and $k$ hash functions, we can descripte the probabilty of an element $m \\notin S$ not passing our filter as $e^{-km/n}$ and analog as passing our filter as $1- (e^{-km/n})$ . To reduce the probabilty of a false positive (which for $k = 1$ is equal to the probabilty of the bit 1), we need to utilize $k>1$ hash functions, as the probabilty of a false positive is then given by $(1-e^{-km/n})^k$.  \n",
    "If $m \\in S$, it surely passes through the filter.\n",
    "\n",
    "## 3)\n",
    "### a)\n"
   ]
  },
  {
   "cell_type": "code",
   "execution_count": 25,
   "metadata": {},
   "outputs": [],
   "source": [
    "S1 = [10,15,3,7,2,1,12]\n",
    "h1 = lambda x : (x+1) % 20\n",
    "h2 = lambda x : (2 * x + 2) % 20\n",
    "h3 = lambda x : (3 * x + 3) % 20\n",
    "\n",
    "filter1 = [0] * 20"
   ]
  },
  {
   "cell_type": "code",
   "execution_count": 18,
   "metadata": {},
   "outputs": [
    {
     "name": "stdout",
     "output_type": "stream",
     "text": [
      "[0, 0, 1, 1, 1, 0, 1, 0, 1, 1, 0, 1, 1, 1, 0, 0, 1, 0, 0, 1]\n"
     ]
    }
   ],
   "source": [
    "for s in S1:\n",
    "    for h in [h1,h2,h3]:\n",
    "        filter1[h(s)] = 1\n",
    "print(filter1)"
   ]
  },
  {
   "cell_type": "markdown",
   "metadata": {},
   "source": [
    "### b)"
   ]
  },
  {
   "cell_type": "code",
   "execution_count": 30,
   "metadata": {},
   "outputs": [
    {
     "name": "stdout",
     "output_type": "stream",
     "text": [
      "The following elements were already present: {1, 3, 7, 12, 15}\n"
     ]
    }
   ],
   "source": [
    "S2 =  [15,1,10,7,3,12,2]\n",
    "filter2 = [1,0,0,0,1,1,0,1,1,0,1,0,1,0,1,1,1,0,0,1]\n",
    "seen_S2 = []\n",
    "for s in S2:\n",
    "    for h in [h1,h2,h3]:\n",
    "        if filter2[h(s)] == 1:\n",
    "            seen_S2.append(s)\n",
    "            continue\n",
    "print(\"The following elements were already present:\", set(seen_S2))"
   ]
  },
  {
   "cell_type": "markdown",
   "metadata": {},
   "source": []
  },
  {
   "cell_type": "markdown",
   "metadata": {},
   "source": [
    "## 4)"
   ]
  },
  {
   "cell_type": "code",
   "execution_count": 80,
   "metadata": {},
   "outputs": [
    {
     "name": "stdout",
     "output_type": "stream",
     "text": [
      "\n",
      "i [2, 3, 6, 9]\n",
      "b ['0010', '0101', '0011', '0001']\n",
      "R [2, 1, 2, 3]\n",
      "R_m 3\n",
      "[2, 3, 6, 9]  ->  8\n",
      "\n",
      "i [1, 3, 9, 10]\n",
      "b ['1010', '0101', '0001', '0100']\n",
      "R [0, 1, 3, 1]\n",
      "R_m 3\n",
      "[1, 3, 9, 10]  ->  8\n",
      "\n",
      "i [1, 4, 7, 9]\n",
      "b ['1010', '1000', '0110', '0001']\n",
      "R [0, 0, 1, 3]\n",
      "R_m 3\n",
      "[1, 4, 7, 9]  ->  8\n",
      "\n",
      "i [4, 6, 9, 10]\n",
      "b ['1000', '0011', '0001', '0100']\n",
      "R [0, 2, 3, 1]\n",
      "R_m 3\n",
      "[4, 6, 9, 10]  ->  8\n"
     ]
    }
   ],
   "source": [
    "h4 = lambda x : (3 * x + 7) % 11\n",
    "A = [2,3,6,9]\n",
    "B = [1,3,9,10]\n",
    "C = [1,4,7,9]\n",
    "D = [4,6,9,10]\n",
    "def flajolet(inp,hashf, bits):\n",
    "    print()\n",
    "    elem = [\"{0:04b}\".format(hashf(a)) for a in inp]\n",
    "    Rs = [s.index(\"1\") for s in elem]\n",
    "    print(\"i\", inp)\n",
    "    print(\"b\", elem)\n",
    "    print(\"R\", Rs)\n",
    "    R = max(Rs)\n",
    "    print(\"R_m\", R)\n",
    "    \n",
    "    return 2**R\n",
    "\n",
    "for s in [A,B,C,D]:\n",
    "    print(s, \" -> \", flajolet(s,h4,4))\n"
   ]
  },
  {
   "cell_type": "markdown",
   "metadata": {},
   "source": [
    "It appears as if all four "
   ]
  },
  {
   "cell_type": "code",
   "execution_count": null,
   "metadata": {},
   "outputs": [],
   "source": []
  }
 ],
 "metadata": {
  "kernelspec": {
   "display_name": "Python 3",
   "language": "python",
   "name": "python3"
  },
  "language_info": {
   "codemirror_mode": {
    "name": "ipython",
    "version": 3
   },
   "file_extension": ".py",
   "mimetype": "text/x-python",
   "name": "python",
   "nbconvert_exporter": "python",
   "pygments_lexer": "ipython3",
   "version": "3.7.10"
  }
 },
 "nbformat": 4,
 "nbformat_minor": 4
}
