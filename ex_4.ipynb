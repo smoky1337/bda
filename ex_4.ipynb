{
 "cells": [
  {
   "cell_type": "markdown",
   "metadata": {
    "pycharm": {
     "name": "#%% md\n"
    }
   },
   "source": [
    "# 1 Page Rank \n",
    "## a)\n"
   ]
  },
  {
   "cell_type": "code",
   "execution_count": 2,
   "metadata": {
    "pycharm": {
     "name": "#%%\n"
    }
   },
   "outputs": [
    {
     "data": {
      "text/plain": "'Matrix A:'"
     },
     "metadata": {},
     "output_type": "display_data"
    },
    {
     "data": {
      "text/plain": "array([[0. , 0. , 0. ],\n       [0.5, 0. , 0. ],\n       [0.5, 1. , 0. ]])"
     },
     "metadata": {},
     "output_type": "display_data"
    },
    {
     "data": {
      "text/plain": "'Matrix B:'"
     },
     "metadata": {},
     "output_type": "display_data"
    },
    {
     "data": {
      "text/plain": "array([[0. , 0. , 0. ],\n       [0.5, 0. , 0. ],\n       [0.5, 1. , 1. ]])"
     },
     "metadata": {},
     "output_type": "display_data"
    }
   ],
   "source": [
    "import numpy as np\n",
    "m_a = np.asarray([[0 , 0.5, 0.5],[0, 0, 1],[0, 0, 0]]).T\n",
    "display(\"Matrix A:\",m_a)\n",
    "\n",
    "m_b = np.asarray([[0 , 0.5, 0.5],[0, 0, 1],[0, 0, 1]]).T\n",
    "\n",
    "display(\"Matrix B:\",m_b)"
   ]
  },
  {
   "cell_type": "code",
   "execution_count": 3,
   "metadata": {
    "pycharm": {
     "name": "#%%\n"
    }
   },
   "outputs": [],
   "source": [
    "def page_rank_naive(matrix, max_step = 10):\n",
    "    n = len(matrix)\n",
    "    state = np.asarray([1 / n] * n)\n",
    "    \n",
    "    rslt = []\n",
    "    rslt.append(state)\n",
    "    for i in range(max_step):\n",
    "        state = matrix.dot(state)\n",
    "        rslt.append(state)\n",
    "    \n",
    "    return rslt"
   ]
  },
  {
   "cell_type": "code",
   "execution_count": 4,
   "metadata": {
    "pycharm": {
     "name": "#%%\n"
    }
   },
   "outputs": [
    {
     "name": "stdout",
     "output_type": "stream",
     "text": [
      "Matrix a\n",
      "0 [0.33333333 0.33333333 0.33333333]\n",
      "1 [0.         0.16666667 0.5       ]\n",
      "2 [0.         0.         0.16666667]\n",
      "3 [0. 0. 0.]\n",
      "4 [0. 0. 0.]\n",
      "5 [0. 0. 0.]\n",
      "6 [0. 0. 0.]\n",
      "7 [0. 0. 0.]\n",
      "8 [0. 0. 0.]\n",
      "9 [0. 0. 0.]\n",
      "10 [0. 0. 0.]\n",
      "Matrix b\n",
      "0 [0.33333333 0.33333333 0.33333333]\n",
      "1 [0.         0.16666667 0.83333333]\n",
      "2 [0. 0. 1.]\n",
      "3 [0. 0. 1.]\n",
      "4 [0. 0. 1.]\n",
      "5 [0. 0. 1.]\n",
      "6 [0. 0. 1.]\n",
      "7 [0. 0. 1.]\n",
      "8 [0. 0. 1.]\n",
      "9 [0. 0. 1.]\n",
      "10 [0. 0. 1.]\n"
     ]
    }
   ],
   "source": [
    "s = page_rank_naive(m_a)\n",
    "print(\"Matrix a\")\n",
    "for i,step in enumerate(s):\n",
    "    print(i,step)\n",
    "\n",
    "s = page_rank_naive(m_b)\n",
    "print(\"Matrix b\")\n",
    "for i,step in enumerate(s):\n",
    "    print(i,step)"
   ]
  },
  {
   "cell_type": "markdown",
   "metadata": {
    "pycharm": {
     "name": "#%% md\n"
    }
   },
   "source": [
    "-> A leads to all probabilities becoming zero as we have a dead end  \n",
    "-> B leads to all probability accumulating in the spider trap loop"
   ]
  },
  {
   "cell_type": "code",
   "execution_count": 5,
   "metadata": {
    "pycharm": {
     "name": "#%%\n"
    }
   },
   "outputs": [],
   "source": [
    "def has_dead_end(matrix, return_i = False):\n",
    "    for i in range(len(matrix)):\n",
    "        if matrix[:,i].sum() == 0:\n",
    "            if return_i:\n",
    "                return True, i\n",
    "            return True\n",
    "    return False\n"
   ]
  },
  {
   "cell_type": "code",
   "execution_count": 6,
   "outputs": [
    {
     "name": "stdout",
     "output_type": "stream",
     "text": [
      "False\n"
     ]
    }
   ],
   "source": [
    "print(has_dead_end(m_b))"
   ],
   "metadata": {
    "collapsed": false,
    "pycharm": {
     "name": "#%%\n"
    }
   }
  },
  {
   "cell_type": "code",
   "execution_count": 20,
   "metadata": {
    "pycharm": {
     "name": "#%%\n"
    }
   },
   "outputs": [],
   "source": [
    "def page_rank(matrix, max_step = 10, use_beta = True, dead_ends = True, all_results = True):\n",
    "    beta = 0.85\n",
    "    n = len(matrix)\n",
    "    state = np.asarray([1 / n] * n)\n",
    "    old = state.copy()\n",
    "    old_matrix = matrix.copy()\n",
    "    deleted = []\n",
    "    if dead_ends:\n",
    "        try:\n",
    "            while has_dead_end(matrix):\n",
    "                _, i = has_dead_end(matrix,True)\n",
    "                print(i)\n",
    "                deleted.append(i)\n",
    "                idx = list(set(range(matrix.shape[0])).difference([i]))\n",
    "                matrix = matrix[np.ix_(idx,idx)]\n",
    "                sums = matrix.sum(axis=0,keepdims=1); \n",
    "                sums[sums==0] = 1\n",
    "                matrix = matrix/sums\n",
    "                if matrix.shape == (0,0):\n",
    "                    raise Exception(\"Too many Deadends\")\n",
    "        except:\n",
    "            print(\"No nodes left when deleting deadends. Aborting..\")\n",
    "            return []\n",
    "    rslt = [state]\n",
    "\n",
    "    for i in range(max_step):\n",
    "        if use_beta:\n",
    "            state = matrix.dot(state) + (1-beta) * old\n",
    "        else:\n",
    "            state = matrix.dot(state)\n",
    "        rslt.append(state)\n",
    "        \n",
    "    for i in deleted[::-1]:\n",
    "        #TODO: Implement adding back the stuff\n",
    "        ranks = rslt[max_step]\n",
    "        pre_decessors = np.where(old_matrix[:,i] > 0)\n",
    "        pre_d_power = [1 / len(old_matrix[t].nonzero()) for t in pre_decessors]\n",
    "        rank = np.sum([s * t for s,t in zip(pre_d_power, ranks[pre_decessors])])\n",
    "        rslt.append(rslt[:-1].append(rank))\n",
    "        \n",
    "    if all_results:\n",
    "        return rslt\n",
    "    else:\n",
    "        return rslt.pop()"
   ]
  },
  {
   "cell_type": "code",
   "execution_count": 21,
   "outputs": [
    {
     "data": {
      "text/plain": "0.567123152437463"
     },
     "execution_count": 21,
     "metadata": {},
     "output_type": "execute_result"
    }
   ],
   "source": [
    "s = np.random.random(1)[0]\n",
    "s"
   ],
   "metadata": {
    "collapsed": false,
    "pycharm": {
     "name": "#%%\n"
    }
   }
  },
  {
   "cell_type": "code",
   "execution_count": 22,
   "metadata": {
    "scrolled": true,
    "pycharm": {
     "name": "#%%\n"
    }
   },
   "outputs": [
    {
     "name": "stdout",
     "output_type": "stream",
     "text": [
      "DeadEnd\n",
      "2\n",
      "1\n",
      "0\n",
      "No nodes left when deleting deadends. Aborting..\n",
      "Matrix a\n",
      "Matrix b\n",
      "0 [0.33333333 0.33333333 0.33333333]\n",
      "1 [0.         0.16666667 0.83333333]\n",
      "2 [0. 0. 1.]\n",
      "3 [0. 0. 1.]\n",
      "4 [0. 0. 1.]\n",
      "5 [0. 0. 1.]\n",
      "6 [0. 0. 1.]\n",
      "7 [0. 0. 1.]\n",
      "8 [0. 0. 1.]\n",
      "9 [0. 0. 1.]\n",
      "10 [0. 0. 1.]\n",
      "Taxation\n",
      "Matrix a\n",
      "0 [0.33333333 0.33333333 0.33333333]\n",
      "1 [0.05       0.21666667 0.55      ]\n",
      "2 [0.05       0.075      0.29166667]\n",
      "3 [0.05  0.075 0.15 ]\n",
      "4 [0.05  0.075 0.15 ]\n",
      "5 [0.05  0.075 0.15 ]\n",
      "6 [0.05  0.075 0.15 ]\n",
      "7 [0.05  0.075 0.15 ]\n",
      "8 [0.05  0.075 0.15 ]\n",
      "9 [0.05  0.075 0.15 ]\n",
      "10 [0.05  0.075 0.15 ]\n",
      "Matrix b\n",
      "0 [0.33333333 0.33333333 0.33333333]\n",
      "1 [0.05       0.21666667 0.88333333]\n",
      "2 [0.05  0.075 1.175]\n",
      "3 [0.05  0.075 1.325]\n",
      "4 [0.05  0.075 1.475]\n",
      "5 [0.05  0.075 1.625]\n",
      "6 [0.05  0.075 1.775]\n",
      "7 [0.05  0.075 1.925]\n",
      "8 [0.05  0.075 2.075]\n",
      "9 [0.05  0.075 2.225]\n",
      "10 [0.05  0.075 2.375]\n",
      "Both\n",
      "2\n",
      "1\n",
      "0\n",
      "No nodes left when deleting deadends. Aborting..\n",
      "Matrix a\n",
      "Matrix b\n",
      "0 [0.33333333 0.33333333 0.33333333]\n",
      "1 [0.05       0.21666667 0.88333333]\n",
      "2 [0.05  0.075 1.175]\n",
      "3 [0.05  0.075 1.325]\n",
      "4 [0.05  0.075 1.475]\n",
      "5 [0.05  0.075 1.625]\n",
      "6 [0.05  0.075 1.775]\n",
      "7 [0.05  0.075 1.925]\n",
      "8 [0.05  0.075 2.075]\n",
      "9 [0.05  0.075 2.225]\n",
      "10 [0.05  0.075 2.375]\n"
     ]
    }
   ],
   "source": [
    "print(\"DeadEnd\")\n",
    "s = page_rank(m_a, use_beta = False)\n",
    "print(\"Matrix a\")\n",
    "for i,step in enumerate(s):\n",
    "    print(i,step)\n",
    "\n",
    "s = page_rank(m_b, use_beta = False)\n",
    "print(\"Matrix b\")\n",
    "for i,step in enumerate(s):\n",
    "    print(i,step)\n",
    "    \n",
    "    \n",
    "print(\"Taxation\")\n",
    "s = page_rank(m_a, dead_ends = False)\n",
    "print(\"Matrix a\")\n",
    "for i,step in enumerate(s):\n",
    "    print(i,step)\n",
    "\n",
    "s = page_rank(m_b, dead_ends = False)\n",
    "print(\"Matrix b\")\n",
    "for i,step in enumerate(s):\n",
    "    print(i,step)\n",
    "    \n",
    "print(\"Both\")\n",
    "\n",
    "s = page_rank(m_a)\n",
    "print(\"Matrix a\")\n",
    "for i,step in enumerate(s):\n",
    "    print(i,step)\n",
    "\n",
    "s = page_rank(m_b)\n",
    "print(\"Matrix b\")\n",
    "for i,step in enumerate(s):\n",
    "    print(i,step)"
   ]
  },
  {
   "cell_type": "markdown",
   "metadata": {
    "pycharm": {
     "name": "#%% md\n"
    }
   },
   "source": [
    "Deadends  \n",
    "-> A: As there is no node left when removing deadends, we are left without a page rank\n",
    "-> B: As we do not have dead ends, no change  \n",
    "Taxation  \n",
    "-> A: As the surfer disapears with change beta, sum is less than 1\n",
    "-> B: Works well, spider trap does not accumulate all of the rank anymore\n",
    "Both\n",
    "-> A: See above for deadends, same issue occurs\n",
    "-> B: See above for taxation, there is no change as we do not have deadends"
   ]
  },
  {
   "cell_type": "markdown",
   "metadata": {
    "pycharm": {
     "name": "#%% md\n"
    }
   },
   "source": [
    "# 2\n",
    "## a"
   ]
  },
  {
   "cell_type": "code",
   "execution_count": 94,
   "metadata": {
    "pycharm": {
     "name": "#%%\n"
    }
   },
   "outputs": [
    {
     "data": {
      "text/plain": "source                   .net  agile  ajax  amazon-web-services  android  \\\ntarget                                                                     \n.net                 0.000000    0.0   0.0                  0.0      0.0   \nagile                0.000000    0.0   0.0                  0.0      0.0   \najax                 0.000000    0.0   0.0                  0.0      0.0   \namazon-web-services  0.000000    0.0   0.0                  0.0      0.0   \nandroid              0.000000    0.0   0.0                  0.0      0.0   \n...                       ...    ...   ...                  ...      ...   \nwordpress            0.000000    0.0   0.0                  0.0      0.0   \nwpf                  0.166667    0.0   0.0                  0.0      0.0   \nxamarin              0.000000    0.0   0.0                  0.0      0.0   \nxcode                0.000000    0.0   0.0                  0.0      0.0   \nxml                  0.000000    0.0   0.0                  0.0      0.0   \n\nsource               android-studio  angular  angular2  angularjs  apache  \\\ntarget                                                                      \n.net                       0.000000      0.0       0.0        0.0     0.0   \nagile                      0.000000      0.0       0.0        0.0     0.0   \najax                       0.000000      0.0       0.0        0.0     0.0   \namazon-web-services        0.000000      0.0       0.0        0.0     0.0   \nandroid                    0.333333      0.0       0.0        0.0     0.0   \n...                             ...      ...       ...        ...     ...   \nwordpress                  0.000000      0.0       0.0        0.0     0.0   \nwpf                        0.000000      0.0       0.0        0.0     0.0   \nxamarin                    0.000000      0.0       0.0        0.0     0.0   \nxcode                      0.000000      0.0       0.0        0.0     0.0   \nxml                        0.000000      0.0       0.0        0.0     0.0   \n\nsource               ...  visual-studio  vue.js       wcf  web-services  \\\ntarget               ...                                                  \n.net                 ...            0.0     0.0  0.125000           0.0   \nagile                ...            0.0     0.0  0.000000           0.0   \najax                 ...            0.0     0.0  0.000000           0.0   \namazon-web-services  ...            0.0     0.0  0.000000           0.0   \nandroid              ...            0.0     0.0  0.000000           0.0   \n...                  ...            ...     ...       ...           ...   \nwordpress            ...            0.0     0.0  0.000000           0.0   \nwpf                  ...            0.0     0.0  0.166667           0.0   \nxamarin              ...            0.0     0.0  0.000000           0.0   \nxcode                ...            0.0     0.0  0.000000           0.0   \nxml                  ...            0.0     0.0  0.000000           0.0   \n\nsource               windows  wordpress    wpf  xamarin  xcode  xml  \ntarget                                                               \n.net                     0.0        0.0  0.125      0.0    0.0  0.0  \nagile                    0.0        0.0  0.000      0.0    0.0  0.0  \najax                     0.0        0.0  0.000      0.0    0.0  0.0  \namazon-web-services      0.0        0.0  0.000      0.0    0.0  0.0  \nandroid                  0.0        0.0  0.000      0.0    0.0  0.0  \n...                      ...        ...    ...      ...    ...  ...  \nwordpress                0.0        0.0  0.000      0.0    0.0  0.0  \nwpf                      0.0        0.0  0.000      0.0    0.0  0.0  \nxamarin                  0.0        0.0  0.000      0.0    0.0  0.0  \nxcode                    0.0        0.0  0.000      0.0    0.0  0.0  \nxml                      0.0        0.0  0.000      0.0    0.0  0.0  \n\n[115 rows x 115 columns]",
      "text/html": "<div>\n<style scoped>\n    .dataframe tbody tr th:only-of-type {\n        vertical-align: middle;\n    }\n\n    .dataframe tbody tr th {\n        vertical-align: top;\n    }\n\n    .dataframe thead th {\n        text-align: right;\n    }\n</style>\n<table border=\"1\" class=\"dataframe\">\n  <thead>\n    <tr style=\"text-align: right;\">\n      <th>source</th>\n      <th>.net</th>\n      <th>agile</th>\n      <th>ajax</th>\n      <th>amazon-web-services</th>\n      <th>android</th>\n      <th>android-studio</th>\n      <th>angular</th>\n      <th>angular2</th>\n      <th>angularjs</th>\n      <th>apache</th>\n      <th>...</th>\n      <th>visual-studio</th>\n      <th>vue.js</th>\n      <th>wcf</th>\n      <th>web-services</th>\n      <th>windows</th>\n      <th>wordpress</th>\n      <th>wpf</th>\n      <th>xamarin</th>\n      <th>xcode</th>\n      <th>xml</th>\n    </tr>\n    <tr>\n      <th>target</th>\n      <th></th>\n      <th></th>\n      <th></th>\n      <th></th>\n      <th></th>\n      <th></th>\n      <th></th>\n      <th></th>\n      <th></th>\n      <th></th>\n      <th></th>\n      <th></th>\n      <th></th>\n      <th></th>\n      <th></th>\n      <th></th>\n      <th></th>\n      <th></th>\n      <th></th>\n      <th></th>\n      <th></th>\n    </tr>\n  </thead>\n  <tbody>\n    <tr>\n      <th>.net</th>\n      <td>0.000000</td>\n      <td>0.0</td>\n      <td>0.0</td>\n      <td>0.0</td>\n      <td>0.0</td>\n      <td>0.000000</td>\n      <td>0.0</td>\n      <td>0.0</td>\n      <td>0.0</td>\n      <td>0.0</td>\n      <td>...</td>\n      <td>0.0</td>\n      <td>0.0</td>\n      <td>0.125000</td>\n      <td>0.0</td>\n      <td>0.0</td>\n      <td>0.0</td>\n      <td>0.125</td>\n      <td>0.0</td>\n      <td>0.0</td>\n      <td>0.0</td>\n    </tr>\n    <tr>\n      <th>agile</th>\n      <td>0.000000</td>\n      <td>0.0</td>\n      <td>0.0</td>\n      <td>0.0</td>\n      <td>0.0</td>\n      <td>0.000000</td>\n      <td>0.0</td>\n      <td>0.0</td>\n      <td>0.0</td>\n      <td>0.0</td>\n      <td>...</td>\n      <td>0.0</td>\n      <td>0.0</td>\n      <td>0.000000</td>\n      <td>0.0</td>\n      <td>0.0</td>\n      <td>0.0</td>\n      <td>0.000</td>\n      <td>0.0</td>\n      <td>0.0</td>\n      <td>0.0</td>\n    </tr>\n    <tr>\n      <th>ajax</th>\n      <td>0.000000</td>\n      <td>0.0</td>\n      <td>0.0</td>\n      <td>0.0</td>\n      <td>0.0</td>\n      <td>0.000000</td>\n      <td>0.0</td>\n      <td>0.0</td>\n      <td>0.0</td>\n      <td>0.0</td>\n      <td>...</td>\n      <td>0.0</td>\n      <td>0.0</td>\n      <td>0.000000</td>\n      <td>0.0</td>\n      <td>0.0</td>\n      <td>0.0</td>\n      <td>0.000</td>\n      <td>0.0</td>\n      <td>0.0</td>\n      <td>0.0</td>\n    </tr>\n    <tr>\n      <th>amazon-web-services</th>\n      <td>0.000000</td>\n      <td>0.0</td>\n      <td>0.0</td>\n      <td>0.0</td>\n      <td>0.0</td>\n      <td>0.000000</td>\n      <td>0.0</td>\n      <td>0.0</td>\n      <td>0.0</td>\n      <td>0.0</td>\n      <td>...</td>\n      <td>0.0</td>\n      <td>0.0</td>\n      <td>0.000000</td>\n      <td>0.0</td>\n      <td>0.0</td>\n      <td>0.0</td>\n      <td>0.000</td>\n      <td>0.0</td>\n      <td>0.0</td>\n      <td>0.0</td>\n    </tr>\n    <tr>\n      <th>android</th>\n      <td>0.000000</td>\n      <td>0.0</td>\n      <td>0.0</td>\n      <td>0.0</td>\n      <td>0.0</td>\n      <td>0.333333</td>\n      <td>0.0</td>\n      <td>0.0</td>\n      <td>0.0</td>\n      <td>0.0</td>\n      <td>...</td>\n      <td>0.0</td>\n      <td>0.0</td>\n      <td>0.000000</td>\n      <td>0.0</td>\n      <td>0.0</td>\n      <td>0.0</td>\n      <td>0.000</td>\n      <td>0.0</td>\n      <td>0.0</td>\n      <td>0.0</td>\n    </tr>\n    <tr>\n      <th>...</th>\n      <td>...</td>\n      <td>...</td>\n      <td>...</td>\n      <td>...</td>\n      <td>...</td>\n      <td>...</td>\n      <td>...</td>\n      <td>...</td>\n      <td>...</td>\n      <td>...</td>\n      <td>...</td>\n      <td>...</td>\n      <td>...</td>\n      <td>...</td>\n      <td>...</td>\n      <td>...</td>\n      <td>...</td>\n      <td>...</td>\n      <td>...</td>\n      <td>...</td>\n      <td>...</td>\n    </tr>\n    <tr>\n      <th>wordpress</th>\n      <td>0.000000</td>\n      <td>0.0</td>\n      <td>0.0</td>\n      <td>0.0</td>\n      <td>0.0</td>\n      <td>0.000000</td>\n      <td>0.0</td>\n      <td>0.0</td>\n      <td>0.0</td>\n      <td>0.0</td>\n      <td>...</td>\n      <td>0.0</td>\n      <td>0.0</td>\n      <td>0.000000</td>\n      <td>0.0</td>\n      <td>0.0</td>\n      <td>0.0</td>\n      <td>0.000</td>\n      <td>0.0</td>\n      <td>0.0</td>\n      <td>0.0</td>\n    </tr>\n    <tr>\n      <th>wpf</th>\n      <td>0.166667</td>\n      <td>0.0</td>\n      <td>0.0</td>\n      <td>0.0</td>\n      <td>0.0</td>\n      <td>0.000000</td>\n      <td>0.0</td>\n      <td>0.0</td>\n      <td>0.0</td>\n      <td>0.0</td>\n      <td>...</td>\n      <td>0.0</td>\n      <td>0.0</td>\n      <td>0.166667</td>\n      <td>0.0</td>\n      <td>0.0</td>\n      <td>0.0</td>\n      <td>0.000</td>\n      <td>0.0</td>\n      <td>0.0</td>\n      <td>0.0</td>\n    </tr>\n    <tr>\n      <th>xamarin</th>\n      <td>0.000000</td>\n      <td>0.0</td>\n      <td>0.0</td>\n      <td>0.0</td>\n      <td>0.0</td>\n      <td>0.000000</td>\n      <td>0.0</td>\n      <td>0.0</td>\n      <td>0.0</td>\n      <td>0.0</td>\n      <td>...</td>\n      <td>0.0</td>\n      <td>0.0</td>\n      <td>0.000000</td>\n      <td>0.0</td>\n      <td>0.0</td>\n      <td>0.0</td>\n      <td>0.000</td>\n      <td>0.0</td>\n      <td>0.0</td>\n      <td>0.0</td>\n    </tr>\n    <tr>\n      <th>xcode</th>\n      <td>0.000000</td>\n      <td>0.0</td>\n      <td>0.0</td>\n      <td>0.0</td>\n      <td>0.0</td>\n      <td>0.000000</td>\n      <td>0.0</td>\n      <td>0.0</td>\n      <td>0.0</td>\n      <td>0.0</td>\n      <td>...</td>\n      <td>0.0</td>\n      <td>0.0</td>\n      <td>0.000000</td>\n      <td>0.0</td>\n      <td>0.0</td>\n      <td>0.0</td>\n      <td>0.000</td>\n      <td>0.0</td>\n      <td>0.0</td>\n      <td>0.0</td>\n    </tr>\n    <tr>\n      <th>xml</th>\n      <td>0.000000</td>\n      <td>0.0</td>\n      <td>0.0</td>\n      <td>0.0</td>\n      <td>0.0</td>\n      <td>0.000000</td>\n      <td>0.0</td>\n      <td>0.0</td>\n      <td>0.0</td>\n      <td>0.0</td>\n      <td>...</td>\n      <td>0.0</td>\n      <td>0.0</td>\n      <td>0.000000</td>\n      <td>0.0</td>\n      <td>0.0</td>\n      <td>0.0</td>\n      <td>0.000</td>\n      <td>0.0</td>\n      <td>0.0</td>\n      <td>0.0</td>\n    </tr>\n  </tbody>\n</table>\n<p>115 rows × 115 columns</p>\n</div>"
     },
     "metadata": {},
     "output_type": "display_data"
    },
    {
     "data": {
      "text/plain": "array([1., 1., 1., 1., 1., 1., 1., 1., 1., 1., 1., 1., 1., 1., 1., 1., 1.,\n       1., 1., 1., 1., 1., 1., 1., 1., 1., 1., 1., 1., 1., 1., 1., 1., 1.,\n       1., 1., 1., 1., 1., 1., 1., 1., 1., 1., 1., 1., 1., 1., 1., 1., 1.,\n       1., 1., 1., 1., 1., 1., 1., 1., 1., 1., 1., 1., 1., 1., 1., 1., 1.,\n       1., 1., 1., 1., 1., 1., 1., 1., 1., 1., 1., 1., 1., 1., 1., 1., 1.,\n       1., 1., 1., 1., 1., 1., 1., 1., 1., 1., 1., 1., 1., 1., 1., 1., 1.,\n       1., 1., 1., 1., 1., 1., 1., 1., 1., 1., 1., 1., 1.])"
     },
     "metadata": {},
     "output_type": "display_data"
    }
   ],
   "source": [
    "import pandas as pd\n",
    "data = pd.read_csv(\"material/stack_network_links.csv\")\n",
    "transition_matrix = pd.crosstab(data[\"source\"], data[\"target\"]).T\n",
    "transition_matrix = transition_matrix.div(transition_matrix.sum(axis=1), axis=0)\n",
    "display(transition_matrix)\n",
    "display(transition_matrix.values.sum(axis = 1))"
   ]
  },
  {
   "cell_type": "code",
   "execution_count": 93,
   "metadata": {
    "pycharm": {
     "name": "#%%\n"
    }
   },
   "outputs": [
    {
     "data": {
      "text/plain": "0    1.0\ndtype: float64"
     },
     "execution_count": 93,
     "metadata": {},
     "output_type": "execute_result"
    }
   ],
   "source": [
    "s = page_rank(transition_matrix.values, all_results=False)\n",
    "rslt = pd.DataFrame(s, index = transition_matrix.index)\n",
    "rslt.sum()"
   ]
  },
  {
   "cell_type": "markdown",
   "source": [
    "# 4"
   ],
   "metadata": {
    "collapsed": false,
    "pycharm": {
     "name": "#%% md\n"
    }
   }
  },
  {
   "cell_type": "code",
   "execution_count": 7,
   "outputs": [],
   "source": [
    "import sys\n",
    "\n",
    "from itertools import chain, combinations\n",
    "from collections import defaultdict\n",
    "from optparse import OptionParser\n",
    "\n",
    "\n",
    "def subsets(arr):\n",
    "    \"\"\" Returns non empty subsets of arr\"\"\"\n",
    "    return chain(*[combinations(arr, i + 1) for i, a in enumerate(arr)])\n",
    "\n",
    "\n",
    "def returnItemsWithMinSupport(itemSet, transactionList, minSupport, freqSet):\n",
    "    \"\"\"calculates the support for items in the itemSet and returns a subset\n",
    "    of the itemSet each of whose elements satisfies the minimum support\"\"\"\n",
    "    _itemSet = set()\n",
    "    localSet = defaultdict(int)\n",
    "\n",
    "    for item in itemSet:\n",
    "        for transaction in transactionList:\n",
    "            if item.issubset(transaction):\n",
    "                freqSet[item] += 1\n",
    "                localSet[item] += 1\n",
    "\n",
    "    for item, count in localSet.items():\n",
    "        support = float(count) / len(transactionList)\n",
    "\n",
    "        if support >= minSupport:\n",
    "            _itemSet.add(item)\n",
    "\n",
    "    return _itemSet\n",
    "\n",
    "def joinSet(itemSet, length):\n",
    "    \"\"\"Join a set with itself and returns the n-element itemsets\"\"\"\n",
    "    return set(\n",
    "        [i.union(j) for i in itemSet for j in itemSet if len(i.union(j)) == length]\n",
    "    )\n",
    "\n",
    "\n",
    "def getItemSetTransactionList(data_iterator):\n",
    "    transactionList = list()\n",
    "    itemSet = set()\n",
    "    for record in data_iterator:\n",
    "        transaction = frozenset(record)\n",
    "        transactionList.append(transaction)\n",
    "        for item in transaction:\n",
    "            itemSet.add(frozenset([item]))  # Generate 1-itemSets\n",
    "    return itemSet, transactionList\n",
    "\n",
    "\n",
    "def runApriori(data_iter, minSupport, minConfidence):\n",
    "    \"\"\"\n",
    "    run the apriori algorithm. data_iter is a record iterator\n",
    "    Return both:\n",
    "     - items (tuple, support)\n",
    "     - rules ((pretuple, posttuple), confidence)\n",
    "    \"\"\"\n",
    "    itemSet, transactionList = getItemSetTransactionList(data_iter)\n",
    "    print(itemSet)\n",
    "    print(transactionList)\n",
    "    freqSet = defaultdict(int)\n",
    "    largeSet = dict()\n",
    "    # Global dictionary which stores (key=n-itemSets,value=support)\n",
    "    # which satisfy minSupport\n",
    "\n",
    "    assocRules = dict()\n",
    "    # Dictionary which stores Association Rules\n",
    "\n",
    "    oneCSet = returnItemsWithMinSupport(itemSet, transactionList, minSupport, freqSet)\n",
    "\n",
    "    currentLSet = oneCSet\n",
    "    k = 2\n",
    "    while currentLSet != set([]):\n",
    "        largeSet[k - 1] = currentLSet\n",
    "        currentLSet = joinSet(currentLSet, k)\n",
    "        currentCSet = returnItemsWithMinSupport(\n",
    "            currentLSet, transactionList, minSupport, freqSet\n",
    "        )\n",
    "        currentLSet = currentCSet\n",
    "        k = k + 1\n",
    "\n",
    "    def getSupport(item):\n",
    "        \"\"\"local function which Returns the support of an item\"\"\"\n",
    "        return float(freqSet[item]) / len(transactionList)\n",
    "\n",
    "    toRetItems = []\n",
    "    for key, value in largeSet.items():\n",
    "        toRetItems.extend([(tuple(item), getSupport(item)) for item in value])\n",
    "\n",
    "    toRetRules = []\n",
    "    for key, value in list(largeSet.items())[1:]:\n",
    "        for item in value:\n",
    "            _subsets = map(frozenset, [x for x in subsets(item)])\n",
    "            for element in _subsets:\n",
    "                remain = item.difference(element)\n",
    "                if len(remain) > 0:\n",
    "                    confidence = getSupport(item) / getSupport(element)\n",
    "                    if confidence >= minConfidence:\n",
    "                        toRetRules.append(((tuple(element), tuple(remain)), confidence))\n",
    "    return toRetItems, toRetRules\n",
    "\n",
    "\n",
    "def printResults(items, rules):\n",
    "    \"\"\"prints the generated itemsets sorted by support and the confidence rules sorted by confidence\"\"\"\n",
    "    for item, support in sorted(items, key=lambda x: x[1]):\n",
    "        print(\"item: %s , %.3f\" % (str(item), support))\n",
    "    print(\"\\n------------------------ RULES:\")\n",
    "    for rule, confidence in sorted(rules, key=lambda x: x[1]):\n",
    "        pre, post = rule\n",
    "        print(\"Rule: %s ==> %s , %.3f\" % (str(pre), str(post), confidence))\n",
    "\n",
    "\n",
    "def to_str_results(items, rules):\n",
    "    \"\"\"prints the generated itemsets sorted by support and the confidence rules sorted by confidence\"\"\"\n",
    "    i, r = [], []\n",
    "    for item, support in sorted(items, key=lambda x: x[1]):\n",
    "        x = \"Support item: %s , %.3f\" % (str(item), support)\n",
    "        i.append(x)\n",
    "\n",
    "    for rule, confidence in sorted(rules, key=lambda x: x[1]):\n",
    "        pre, post = rule\n",
    "        x = \"Confidence Rule: %s ==> %s , %.3f\" % (str(pre), str(post), confidence)\n",
    "        r.append(x)\n",
    "\n",
    "    return i, r\n",
    "\n",
    "\n",
    "\n"
   ],
   "metadata": {
    "collapsed": false,
    "pycharm": {
     "name": "#%%\n"
    }
   }
  },
  {
   "cell_type": "code",
   "execution_count": 8,
   "outputs": [
    {
     "name": "stdout",
     "output_type": "stream",
     "text": [
      "{frozenset({'I3'}), frozenset({'I1'}), frozenset({'I2'}), frozenset({'I5'}), frozenset({'I4'})}\n",
      "[frozenset({'I1', 'I2', 'I5'}), frozenset({'I4', 'I2'}), frozenset({'I3', 'I2'}), frozenset({'I1', 'I2', 'I4'}), frozenset({'I1', 'I3'}), frozenset({'I3', 'I2'}), frozenset({'I1', 'I3'}), frozenset({'I1', 'I3', 'I2', 'I5'}), frozenset({'I1', 'I3', 'I2'})]\n",
      "item: ('I5',) , 0.222\n",
      "item: ('I4',) , 0.222\n",
      "item: ('I1', 'I5') , 0.222\n",
      "item: ('I2', 'I5') , 0.222\n",
      "item: ('I4', 'I2') , 0.222\n",
      "item: ('I1', 'I2', 'I5') , 0.222\n",
      "item: ('I1', 'I3', 'I2') , 0.222\n",
      "item: ('I1', 'I2') , 0.444\n",
      "item: ('I3', 'I2') , 0.444\n",
      "item: ('I1', 'I3') , 0.444\n",
      "item: ('I3',) , 0.667\n",
      "item: ('I1',) , 0.667\n",
      "item: ('I2',) , 0.778\n",
      "\n",
      "------------------------ RULES:\n",
      "Rule: ('I1',) ==> ('I2',) , 0.667\n",
      "Rule: ('I3',) ==> ('I2',) , 0.667\n",
      "Rule: ('I1',) ==> ('I3',) , 0.667\n",
      "Rule: ('I3',) ==> ('I1',) , 0.667\n",
      "Rule: ('I5',) ==> ('I1',) , 1.000\n",
      "Rule: ('I5',) ==> ('I2',) , 1.000\n",
      "Rule: ('I4',) ==> ('I2',) , 1.000\n",
      "Rule: ('I5',) ==> ('I1', 'I2') , 1.000\n",
      "Rule: ('I1', 'I5') ==> ('I2',) , 1.000\n",
      "Rule: ('I2', 'I5') ==> ('I1',) , 1.000\n"
     ]
    }
   ],
   "source": [
    "transactions = [\n",
    "    [\"I1\", \"I2\", \"I5\"],\n",
    "    [\"I2\", \"I4\"],\n",
    "    [\"I2\", \"I3\"],\n",
    "    [\"I1\", \"I2\", \"I4\"],\n",
    "    [\"I1\", \"I3\"],\n",
    "    [\"I2\", \"I3\"],\n",
    "    [\"I1\", \"I3\"],\n",
    "    [\"I1\", \"I2\", \"I3\", \"I5\"],\n",
    "    [\"I1\", \"I2\", \"I3\"],\n",
    "]\n",
    "items, rules = runApriori(transactions, 0.15, 0.6)\n",
    "\n",
    "printResults(items, rules)"
   ],
   "metadata": {
    "collapsed": false,
    "pycharm": {
     "name": "#%%\n"
    }
   }
  },
  {
   "cell_type": "code",
   "execution_count": null,
   "outputs": [],
   "source": [],
   "metadata": {
    "collapsed": false,
    "pycharm": {
     "name": "#%%\n"
    }
   }
  }
 ],
 "metadata": {
  "kernelspec": {
   "display_name": "Python 3",
   "language": "python",
   "name": "python3"
  },
  "language_info": {
   "codemirror_mode": {
    "name": "ipython",
    "version": 3
   },
   "file_extension": ".py",
   "mimetype": "text/x-python",
   "name": "python",
   "nbconvert_exporter": "python",
   "pygments_lexer": "ipython3",
   "version": "3.7.10"
  }
 },
 "nbformat": 4,
 "nbformat_minor": 4
}