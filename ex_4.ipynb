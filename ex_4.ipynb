{
 "cells": [
  {
   "cell_type": "markdown",
   "metadata": {
    "pycharm": {
     "name": "#%% md\n"
    }
   },
   "source": [
    "# 1 Page Rank \n",
    "## a)\n"
   ]
  },
  {
   "cell_type": "code",
   "execution_count": 26,
   "metadata": {
    "pycharm": {
     "name": "#%%\n"
    }
   },
   "outputs": [
    {
     "data": {
      "text/plain": "'Matrix A:'"
     },
     "metadata": {},
     "output_type": "display_data"
    },
    {
     "data": {
      "text/plain": "array([[0. , 0.5, 0.5],\n       [0. , 0. , 1. ],\n       [0. , 0. , 0. ]])"
     },
     "metadata": {},
     "output_type": "display_data"
    },
    {
     "data": {
      "text/plain": "'Matrix B:'"
     },
     "metadata": {},
     "output_type": "display_data"
    },
    {
     "data": {
      "text/plain": "array([[0. , 0.5, 0.5],\n       [0. , 0. , 1. ],\n       [0. , 0. , 1. ]])"
     },
     "metadata": {},
     "output_type": "display_data"
    }
   ],
   "source": [
    "import numpy as np\n",
    "m_a = np.asarray([[0 , 0.5, 0.5],[0, 0, 1],[0, 0, 0]])\n",
    "display(\"Matrix A:\",m_a)\n",
    "\n",
    "m_b = np.asarray([[0 , 0.5, 0.5],[0, 0, 1],[0, 0, 1]])\n",
    "\n",
    "display(\"Matrix B:\",m_b)"
   ]
  },
  {
   "cell_type": "code",
   "execution_count": 27,
   "metadata": {
    "pycharm": {
     "name": "#%%\n"
    }
   },
   "outputs": [],
   "source": [
    "def page_rank_naive(matrix, max_step = 10):\n",
    "    n = len(matrix)\n",
    "    state = np.asarray([1 / n] * n)\n",
    "    \n",
    "    rslt = []\n",
    "    rslt.append(state)\n",
    "    for i in range(max_step):\n",
    "        state = state.dot(matrix)\n",
    "        rslt.append(state)\n",
    "    \n",
    "    return rslt"
   ]
  },
  {
   "cell_type": "code",
   "execution_count": 28,
   "metadata": {
    "pycharm": {
     "name": "#%%\n"
    }
   },
   "outputs": [
    {
     "name": "stdout",
     "output_type": "stream",
     "text": [
      "Matrix a\n",
      "0 [0.33333333 0.33333333 0.33333333]\n",
      "1 [0.         0.16666667 0.5       ]\n",
      "2 [0.         0.         0.16666667]\n",
      "3 [0. 0. 0.]\n",
      "4 [0. 0. 0.]\n",
      "5 [0. 0. 0.]\n",
      "6 [0. 0. 0.]\n",
      "7 [0. 0. 0.]\n",
      "8 [0. 0. 0.]\n",
      "9 [0. 0. 0.]\n",
      "10 [0. 0. 0.]\n",
      "Matrix b\n",
      "0 [0.33333333 0.33333333 0.33333333]\n",
      "1 [0.         0.16666667 0.83333333]\n",
      "2 [0. 0. 1.]\n",
      "3 [0. 0. 1.]\n",
      "4 [0. 0. 1.]\n",
      "5 [0. 0. 1.]\n",
      "6 [0. 0. 1.]\n",
      "7 [0. 0. 1.]\n",
      "8 [0. 0. 1.]\n",
      "9 [0. 0. 1.]\n",
      "10 [0. 0. 1.]\n"
     ]
    }
   ],
   "source": [
    "s = page_rank_naive(m_a)\n",
    "print(\"Matrix a\")\n",
    "for i,step in enumerate(s):\n",
    "    print(i,step)\n",
    "\n",
    "s = page_rank_naive(m_b)\n",
    "print(\"Matrix b\")\n",
    "for i,step in enumerate(s):\n",
    "    print(i,step)"
   ]
  },
  {
   "cell_type": "markdown",
   "metadata": {
    "pycharm": {
     "name": "#%% md\n"
    }
   },
   "source": [
    "-> A leads to all probabilities becoming zero as we have a dead end  \n",
    "-> B leads to all probability accumulating in the spider trap loop"
   ]
  },
  {
   "cell_type": "code",
   "execution_count": 29,
   "metadata": {
    "pycharm": {
     "name": "#%%\n"
    }
   },
   "outputs": [],
   "source": [
    "def has_dead_end(matrix, return_i = False):\n",
    "    for i in range(len(matrix)):\n",
    "        if matrix[i].sum() == 0:\n",
    "            if return_i:\n",
    "                return True, i\n",
    "            return True"
   ]
  },
  {
   "cell_type": "code",
   "execution_count": 42,
   "metadata": {
    "pycharm": {
     "name": "#%%\n"
    }
   },
   "outputs": [],
   "source": [
    "def page_rank(matrix, max_step = 10, use_beta = True, dead_ends = True, all_results = True):\n",
    "    beta = 0.85\n",
    "    n = len(matrix)\n",
    "    state = np.asarray([1 / n] * n)\n",
    "    old = state.copy()\n",
    "    old_matrix = matrix.copy()\n",
    "    deleted = []\n",
    "    if dead_ends:\n",
    "        try:\n",
    "            while has_dead_end(matrix):\n",
    "                _, i = has_dead_end(matrix,True)\n",
    "                deleted.append(i)\n",
    "                idx = list(set(range(matrix.shape[0])).difference([i]))\n",
    "                matrix = matrix[np.ix_(idx,idx)]\n",
    "                sums = matrix.sum(axis=0,keepdims=1); \n",
    "                sums[sums==0] = 1\n",
    "                matrix = matrix/sums\n",
    "                if matrix.shape == (0,0):\n",
    "                    raise Exception(\"Too many Deadends\")\n",
    "        except:\n",
    "            print(\"No nodes left when deleting deadends. Aborting..\")\n",
    "            return []\n",
    "    rslt = []\n",
    "    rslt.append(state)\n",
    "    \n",
    "    for i in range(max_step):\n",
    "        if use_beta:\n",
    "            state = beta * state.dot(matrix) + (1-beta) * old\n",
    "        else:\n",
    "            state = state.dot(matrix)\n",
    "        rslt.append(state)\n",
    "        \n",
    "    for i in deleted[::-1]:\n",
    "        #TODO: Implement adding back the stuff\n",
    "        ranks = rslt[max_step]\n",
    "        pre_decessors = np.where(old_matrix[:,i] > 0)\n",
    "        pre_d_power = [1 / len(old_matrix[t].nonzero()) for t in pre_decessors]\n",
    "        rank = np.sum([s * t for s,t in zip(pre_d_power, ranks[pre_decessors])])\n",
    "        rslt.append(rslt[:-1].append(rank))\n",
    "        \n",
    "    if all_results:\n",
    "        return rslt\n",
    "    else:\n",
    "        return rslt.pop()"
   ]
  },
  {
   "cell_type": "code",
   "execution_count": 41,
   "metadata": {
    "scrolled": true,
    "pycharm": {
     "name": "#%%\n"
    }
   },
   "outputs": [
    {
     "name": "stdout",
     "output_type": "stream",
     "text": [
      "DeadEnd\n",
      "Removed 2\n",
      "Removed 1\n",
      "Removed 0\n",
      "No nodes left when deleting deadends. Aborting..\n",
      "Matrix a\n",
      "Matrix b\n",
      "0 [0.33333333 0.33333333 0.33333333]\n",
      "1 [0.         0.16666667 0.83333333]\n",
      "2 [0. 0. 1.]\n",
      "3 [0. 0. 1.]\n",
      "4 [0. 0. 1.]\n",
      "5 [0. 0. 1.]\n",
      "6 [0. 0. 1.]\n",
      "7 [0. 0. 1.]\n",
      "8 [0. 0. 1.]\n",
      "9 [0. 0. 1.]\n",
      "10 [0. 0. 1.]\n",
      "Taxation\n",
      "Matrix a\n",
      "0 [0.33333333 0.33333333 0.33333333]\n",
      "1 [0.05       0.19166667 0.475     ]\n",
      "2 [0.05       0.07125    0.23416667]\n",
      "3 [0.05      0.07125   0.1318125]\n",
      "4 [0.05      0.07125   0.1318125]\n",
      "5 [0.05      0.07125   0.1318125]\n",
      "6 [0.05      0.07125   0.1318125]\n",
      "7 [0.05      0.07125   0.1318125]\n",
      "8 [0.05      0.07125   0.1318125]\n",
      "9 [0.05      0.07125   0.1318125]\n",
      "10 [0.05      0.07125   0.1318125]\n",
      "Matrix b\n",
      "0 [0.33333333 0.33333333 0.33333333]\n",
      "1 [0.05       0.19166667 0.75833333]\n",
      "2 [0.05    0.07125 0.87875]\n",
      "3 [0.05    0.07125 0.87875]\n",
      "4 [0.05    0.07125 0.87875]\n",
      "5 [0.05    0.07125 0.87875]\n",
      "6 [0.05    0.07125 0.87875]\n",
      "7 [0.05    0.07125 0.87875]\n",
      "8 [0.05    0.07125 0.87875]\n",
      "9 [0.05    0.07125 0.87875]\n",
      "10 [0.05    0.07125 0.87875]\n",
      "Both\n",
      "Removed 2\n",
      "Removed 1\n",
      "Removed 0\n",
      "No nodes left when deleting deadends. Aborting..\n",
      "Matrix a\n",
      "Matrix b\n",
      "0 [0.33333333 0.33333333 0.33333333]\n",
      "1 [0.05       0.19166667 0.75833333]\n",
      "2 [0.05    0.07125 0.87875]\n",
      "3 [0.05    0.07125 0.87875]\n",
      "4 [0.05    0.07125 0.87875]\n",
      "5 [0.05    0.07125 0.87875]\n",
      "6 [0.05    0.07125 0.87875]\n",
      "7 [0.05    0.07125 0.87875]\n",
      "8 [0.05    0.07125 0.87875]\n",
      "9 [0.05    0.07125 0.87875]\n",
      "10 [0.05    0.07125 0.87875]\n"
     ]
    }
   ],
   "source": [
    "print(\"DeadEnd\")\n",
    "s = page_rank(m_a, use_beta = False)\n",
    "print(\"Matrix a\")\n",
    "for i,step in enumerate(s):\n",
    "    print(i,step)\n",
    "\n",
    "s = page_rank(m_b, use_beta = False)\n",
    "print(\"Matrix b\")\n",
    "for i,step in enumerate(s):\n",
    "    print(i,step)\n",
    "    \n",
    "    \n",
    "print(\"Taxation\")\n",
    "s = page_rank(m_a, dead_ends = False)\n",
    "print(\"Matrix a\")\n",
    "for i,step in enumerate(s):\n",
    "    print(i,step)\n",
    "\n",
    "s = page_rank(m_b, dead_ends = False)\n",
    "print(\"Matrix b\")\n",
    "for i,step in enumerate(s):\n",
    "    print(i,step)\n",
    "    \n",
    "print(\"Both\")\n",
    "\n",
    "s = page_rank(m_a)\n",
    "print(\"Matrix a\")\n",
    "for i,step in enumerate(s):\n",
    "    print(i,step)\n",
    "\n",
    "s = page_rank(m_b)\n",
    "print(\"Matrix b\")\n",
    "for i,step in enumerate(s):\n",
    "    print(i,step)"
   ]
  },
  {
   "cell_type": "markdown",
   "metadata": {
    "pycharm": {
     "name": "#%% md\n"
    }
   },
   "source": [
    "Deadends  \n",
    "-> A: As there is no node left when removing deadends, we are left without a page rank\n",
    "-> B: As we do not have dead ends, no change  \n",
    "Taxation  \n",
    "-> A: As the surfer disapears with change beta, sum is less than 1\n",
    "-> B: Works well, spider trap does not accumulate all of the rank anymore\n",
    "Both\n",
    "-> A: See above for deadends, same issue occurs\n",
    "-> B: See above for taxation, there is no change as we do not have deadends"
   ]
  },
  {
   "cell_type": "markdown",
   "metadata": {
    "pycharm": {
     "name": "#%% md\n"
    }
   },
   "source": [
    "# 2\n",
    "## a"
   ]
  },
  {
   "cell_type": "code",
   "execution_count": 32,
   "metadata": {
    "pycharm": {
     "name": "#%%\n"
    }
   },
   "outputs": [
    {
     "data": {
      "text/plain": "target                   .net  agile  ajax  amazon-web-services  android  \\\nsource                                                                     \n.net                 0.000000    0.0   0.0                  0.0      0.0   \nagile                0.000000    0.0   0.0                  0.0      0.0   \najax                 0.000000    0.0   0.0                  0.0      0.0   \namazon-web-services  0.000000    0.0   0.0                  0.0      0.0   \nandroid              0.000000    0.0   0.0                  0.0      0.0   \n...                       ...    ...   ...                  ...      ...   \nwordpress            0.000000    0.0   0.0                  0.0      0.0   \nwpf                  0.166667    0.0   0.0                  0.0      0.0   \nxamarin              0.000000    0.0   0.0                  0.0      0.0   \nxcode                0.000000    0.0   0.0                  0.0      0.0   \nxml                  0.000000    0.0   0.0                  0.0      0.0   \n\ntarget               android-studio  angular  angular2  angularjs  apache  \\\nsource                                                                      \n.net                       0.000000      0.0       0.0        0.0     0.0   \nagile                      0.000000      0.0       0.0        0.0     0.0   \najax                       0.000000      0.0       0.0        0.0     0.0   \namazon-web-services        0.000000      0.0       0.0        0.0     0.0   \nandroid                    0.333333      0.0       0.0        0.0     0.0   \n...                             ...      ...       ...        ...     ...   \nwordpress                  0.000000      0.0       0.0        0.0     0.0   \nwpf                        0.000000      0.0       0.0        0.0     0.0   \nxamarin                    0.000000      0.0       0.0        0.0     0.0   \nxcode                      0.000000      0.0       0.0        0.0     0.0   \nxml                        0.000000      0.0       0.0        0.0     0.0   \n\ntarget               ...  visual-studio  vue.js       wcf  web-services  \\\nsource               ...                                                  \n.net                 ...            0.0     0.0  0.125000           0.0   \nagile                ...            0.0     0.0  0.000000           0.0   \najax                 ...            0.0     0.0  0.000000           0.0   \namazon-web-services  ...            0.0     0.0  0.000000           0.0   \nandroid              ...            0.0     0.0  0.000000           0.0   \n...                  ...            ...     ...       ...           ...   \nwordpress            ...            0.0     0.0  0.000000           0.0   \nwpf                  ...            0.0     0.0  0.166667           0.0   \nxamarin              ...            0.0     0.0  0.000000           0.0   \nxcode                ...            0.0     0.0  0.000000           0.0   \nxml                  ...            0.0     0.0  0.000000           0.0   \n\ntarget               windows  wordpress    wpf  xamarin  xcode  xml  \nsource                                                               \n.net                     0.0        0.0  0.125      0.0    0.0  0.0  \nagile                    0.0        0.0  0.000      0.0    0.0  0.0  \najax                     0.0        0.0  0.000      0.0    0.0  0.0  \namazon-web-services      0.0        0.0  0.000      0.0    0.0  0.0  \nandroid                  0.0        0.0  0.000      0.0    0.0  0.0  \n...                      ...        ...    ...      ...    ...  ...  \nwordpress                0.0        0.0  0.000      0.0    0.0  0.0  \nwpf                      0.0        0.0  0.000      0.0    0.0  0.0  \nxamarin                  0.0        0.0  0.000      0.0    0.0  0.0  \nxcode                    0.0        0.0  0.000      0.0    0.0  0.0  \nxml                      0.0        0.0  0.000      0.0    0.0  0.0  \n\n[115 rows x 115 columns]",
      "text/html": "<div>\n<style scoped>\n    .dataframe tbody tr th:only-of-type {\n        vertical-align: middle;\n    }\n\n    .dataframe tbody tr th {\n        vertical-align: top;\n    }\n\n    .dataframe thead th {\n        text-align: right;\n    }\n</style>\n<table border=\"1\" class=\"dataframe\">\n  <thead>\n    <tr style=\"text-align: right;\">\n      <th>target</th>\n      <th>.net</th>\n      <th>agile</th>\n      <th>ajax</th>\n      <th>amazon-web-services</th>\n      <th>android</th>\n      <th>android-studio</th>\n      <th>angular</th>\n      <th>angular2</th>\n      <th>angularjs</th>\n      <th>apache</th>\n      <th>...</th>\n      <th>visual-studio</th>\n      <th>vue.js</th>\n      <th>wcf</th>\n      <th>web-services</th>\n      <th>windows</th>\n      <th>wordpress</th>\n      <th>wpf</th>\n      <th>xamarin</th>\n      <th>xcode</th>\n      <th>xml</th>\n    </tr>\n    <tr>\n      <th>source</th>\n      <th></th>\n      <th></th>\n      <th></th>\n      <th></th>\n      <th></th>\n      <th></th>\n      <th></th>\n      <th></th>\n      <th></th>\n      <th></th>\n      <th></th>\n      <th></th>\n      <th></th>\n      <th></th>\n      <th></th>\n      <th></th>\n      <th></th>\n      <th></th>\n      <th></th>\n      <th></th>\n      <th></th>\n    </tr>\n  </thead>\n  <tbody>\n    <tr>\n      <th>.net</th>\n      <td>0.000000</td>\n      <td>0.0</td>\n      <td>0.0</td>\n      <td>0.0</td>\n      <td>0.0</td>\n      <td>0.000000</td>\n      <td>0.0</td>\n      <td>0.0</td>\n      <td>0.0</td>\n      <td>0.0</td>\n      <td>...</td>\n      <td>0.0</td>\n      <td>0.0</td>\n      <td>0.125000</td>\n      <td>0.0</td>\n      <td>0.0</td>\n      <td>0.0</td>\n      <td>0.125</td>\n      <td>0.0</td>\n      <td>0.0</td>\n      <td>0.0</td>\n    </tr>\n    <tr>\n      <th>agile</th>\n      <td>0.000000</td>\n      <td>0.0</td>\n      <td>0.0</td>\n      <td>0.0</td>\n      <td>0.0</td>\n      <td>0.000000</td>\n      <td>0.0</td>\n      <td>0.0</td>\n      <td>0.0</td>\n      <td>0.0</td>\n      <td>...</td>\n      <td>0.0</td>\n      <td>0.0</td>\n      <td>0.000000</td>\n      <td>0.0</td>\n      <td>0.0</td>\n      <td>0.0</td>\n      <td>0.000</td>\n      <td>0.0</td>\n      <td>0.0</td>\n      <td>0.0</td>\n    </tr>\n    <tr>\n      <th>ajax</th>\n      <td>0.000000</td>\n      <td>0.0</td>\n      <td>0.0</td>\n      <td>0.0</td>\n      <td>0.0</td>\n      <td>0.000000</td>\n      <td>0.0</td>\n      <td>0.0</td>\n      <td>0.0</td>\n      <td>0.0</td>\n      <td>...</td>\n      <td>0.0</td>\n      <td>0.0</td>\n      <td>0.000000</td>\n      <td>0.0</td>\n      <td>0.0</td>\n      <td>0.0</td>\n      <td>0.000</td>\n      <td>0.0</td>\n      <td>0.0</td>\n      <td>0.0</td>\n    </tr>\n    <tr>\n      <th>amazon-web-services</th>\n      <td>0.000000</td>\n      <td>0.0</td>\n      <td>0.0</td>\n      <td>0.0</td>\n      <td>0.0</td>\n      <td>0.000000</td>\n      <td>0.0</td>\n      <td>0.0</td>\n      <td>0.0</td>\n      <td>0.0</td>\n      <td>...</td>\n      <td>0.0</td>\n      <td>0.0</td>\n      <td>0.000000</td>\n      <td>0.0</td>\n      <td>0.0</td>\n      <td>0.0</td>\n      <td>0.000</td>\n      <td>0.0</td>\n      <td>0.0</td>\n      <td>0.0</td>\n    </tr>\n    <tr>\n      <th>android</th>\n      <td>0.000000</td>\n      <td>0.0</td>\n      <td>0.0</td>\n      <td>0.0</td>\n      <td>0.0</td>\n      <td>0.333333</td>\n      <td>0.0</td>\n      <td>0.0</td>\n      <td>0.0</td>\n      <td>0.0</td>\n      <td>...</td>\n      <td>0.0</td>\n      <td>0.0</td>\n      <td>0.000000</td>\n      <td>0.0</td>\n      <td>0.0</td>\n      <td>0.0</td>\n      <td>0.000</td>\n      <td>0.0</td>\n      <td>0.0</td>\n      <td>0.0</td>\n    </tr>\n    <tr>\n      <th>...</th>\n      <td>...</td>\n      <td>...</td>\n      <td>...</td>\n      <td>...</td>\n      <td>...</td>\n      <td>...</td>\n      <td>...</td>\n      <td>...</td>\n      <td>...</td>\n      <td>...</td>\n      <td>...</td>\n      <td>...</td>\n      <td>...</td>\n      <td>...</td>\n      <td>...</td>\n      <td>...</td>\n      <td>...</td>\n      <td>...</td>\n      <td>...</td>\n      <td>...</td>\n      <td>...</td>\n    </tr>\n    <tr>\n      <th>wordpress</th>\n      <td>0.000000</td>\n      <td>0.0</td>\n      <td>0.0</td>\n      <td>0.0</td>\n      <td>0.0</td>\n      <td>0.000000</td>\n      <td>0.0</td>\n      <td>0.0</td>\n      <td>0.0</td>\n      <td>0.0</td>\n      <td>...</td>\n      <td>0.0</td>\n      <td>0.0</td>\n      <td>0.000000</td>\n      <td>0.0</td>\n      <td>0.0</td>\n      <td>0.0</td>\n      <td>0.000</td>\n      <td>0.0</td>\n      <td>0.0</td>\n      <td>0.0</td>\n    </tr>\n    <tr>\n      <th>wpf</th>\n      <td>0.166667</td>\n      <td>0.0</td>\n      <td>0.0</td>\n      <td>0.0</td>\n      <td>0.0</td>\n      <td>0.000000</td>\n      <td>0.0</td>\n      <td>0.0</td>\n      <td>0.0</td>\n      <td>0.0</td>\n      <td>...</td>\n      <td>0.0</td>\n      <td>0.0</td>\n      <td>0.166667</td>\n      <td>0.0</td>\n      <td>0.0</td>\n      <td>0.0</td>\n      <td>0.000</td>\n      <td>0.0</td>\n      <td>0.0</td>\n      <td>0.0</td>\n    </tr>\n    <tr>\n      <th>xamarin</th>\n      <td>0.000000</td>\n      <td>0.0</td>\n      <td>0.0</td>\n      <td>0.0</td>\n      <td>0.0</td>\n      <td>0.000000</td>\n      <td>0.0</td>\n      <td>0.0</td>\n      <td>0.0</td>\n      <td>0.0</td>\n      <td>...</td>\n      <td>0.0</td>\n      <td>0.0</td>\n      <td>0.000000</td>\n      <td>0.0</td>\n      <td>0.0</td>\n      <td>0.0</td>\n      <td>0.000</td>\n      <td>0.0</td>\n      <td>0.0</td>\n      <td>0.0</td>\n    </tr>\n    <tr>\n      <th>xcode</th>\n      <td>0.000000</td>\n      <td>0.0</td>\n      <td>0.0</td>\n      <td>0.0</td>\n      <td>0.0</td>\n      <td>0.000000</td>\n      <td>0.0</td>\n      <td>0.0</td>\n      <td>0.0</td>\n      <td>0.0</td>\n      <td>...</td>\n      <td>0.0</td>\n      <td>0.0</td>\n      <td>0.000000</td>\n      <td>0.0</td>\n      <td>0.0</td>\n      <td>0.0</td>\n      <td>0.000</td>\n      <td>0.0</td>\n      <td>0.0</td>\n      <td>0.0</td>\n    </tr>\n    <tr>\n      <th>xml</th>\n      <td>0.000000</td>\n      <td>0.0</td>\n      <td>0.0</td>\n      <td>0.0</td>\n      <td>0.0</td>\n      <td>0.000000</td>\n      <td>0.0</td>\n      <td>0.0</td>\n      <td>0.0</td>\n      <td>0.0</td>\n      <td>...</td>\n      <td>0.0</td>\n      <td>0.0</td>\n      <td>0.000000</td>\n      <td>0.0</td>\n      <td>0.0</td>\n      <td>0.0</td>\n      <td>0.000</td>\n      <td>0.0</td>\n      <td>0.0</td>\n      <td>0.0</td>\n    </tr>\n  </tbody>\n</table>\n<p>115 rows × 115 columns</p>\n</div>"
     },
     "metadata": {},
     "output_type": "display_data"
    }
   ],
   "source": [
    "import pandas as pd\n",
    "data = pd.read_csv(\"material/stack_network_links.csv\")\n",
    "transition_matrix = pd.crosstab(data[\"source\"], data[\"target\"])\n",
    "transition_matrix = transition_matrix.div(transition_matrix.sum(axis=1), axis=0)\n",
    "display(transition_matrix)"
   ]
  },
  {
   "cell_type": "code",
   "execution_count": 50,
   "metadata": {
    "pycharm": {
     "name": "#%%\n"
    }
   },
   "outputs": [
    {
     "data": {
      "text/plain": "                            0\nsource                       \n.net                 0.011388\nagile                0.008696\najax                 0.010181\namazon-web-services  0.010420\nandroid              0.007742\n...                       ...\nwordpress            0.009520\nwpf                  0.008687\nxamarin              0.002660\nxcode                0.008502\nxml                  0.003009\n\n[115 rows x 1 columns]",
      "text/html": "<div>\n<style scoped>\n    .dataframe tbody tr th:only-of-type {\n        vertical-align: middle;\n    }\n\n    .dataframe tbody tr th {\n        vertical-align: top;\n    }\n\n    .dataframe thead th {\n        text-align: right;\n    }\n</style>\n<table border=\"1\" class=\"dataframe\">\n  <thead>\n    <tr style=\"text-align: right;\">\n      <th></th>\n      <th>0</th>\n    </tr>\n    <tr>\n      <th>source</th>\n      <th></th>\n    </tr>\n  </thead>\n  <tbody>\n    <tr>\n      <th>.net</th>\n      <td>0.011388</td>\n    </tr>\n    <tr>\n      <th>agile</th>\n      <td>0.008696</td>\n    </tr>\n    <tr>\n      <th>ajax</th>\n      <td>0.010181</td>\n    </tr>\n    <tr>\n      <th>amazon-web-services</th>\n      <td>0.010420</td>\n    </tr>\n    <tr>\n      <th>android</th>\n      <td>0.007742</td>\n    </tr>\n    <tr>\n      <th>...</th>\n      <td>...</td>\n    </tr>\n    <tr>\n      <th>wordpress</th>\n      <td>0.009520</td>\n    </tr>\n    <tr>\n      <th>wpf</th>\n      <td>0.008687</td>\n    </tr>\n    <tr>\n      <th>xamarin</th>\n      <td>0.002660</td>\n    </tr>\n    <tr>\n      <th>xcode</th>\n      <td>0.008502</td>\n    </tr>\n    <tr>\n      <th>xml</th>\n      <td>0.003009</td>\n    </tr>\n  </tbody>\n</table>\n<p>115 rows × 1 columns</p>\n</div>"
     },
     "metadata": {},
     "output_type": "display_data"
    }
   ],
   "source": [
    "s = page_rank(transition_matrix.values, all_results=False)\n",
    "rslt = display(pd.DataFrame(s, index = transition_matrix.index))\n"
   ]
  },
  {
   "cell_type": "markdown",
   "source": [
    "# 4\n",
    "## a"
   ],
   "metadata": {
    "collapsed": false,
    "pycharm": {
     "name": "#%% md\n"
    }
   }
  },
  {
   "cell_type": "code",
   "execution_count": null,
   "outputs": [],
   "source": [
    "def support(a,b, all):\n",
    "    i,c = np.unique(all,return_counts=True)\n",
    "    counts = dict(zip(i,c))\n",
    "    return ()"
   ],
   "metadata": {
    "collapsed": false,
    "pycharm": {
     "name": "#%%\n"
    }
   }
  }
 ],
 "metadata": {
  "kernelspec": {
   "display_name": "Python 3",
   "language": "python",
   "name": "python3"
  },
  "language_info": {
   "codemirror_mode": {
    "name": "ipython",
    "version": 3
   },
   "file_extension": ".py",
   "mimetype": "text/x-python",
   "name": "python",
   "nbconvert_exporter": "python",
   "pygments_lexer": "ipython3",
   "version": "3.7.10"
  }
 },
 "nbformat": 4,
 "nbformat_minor": 4
}